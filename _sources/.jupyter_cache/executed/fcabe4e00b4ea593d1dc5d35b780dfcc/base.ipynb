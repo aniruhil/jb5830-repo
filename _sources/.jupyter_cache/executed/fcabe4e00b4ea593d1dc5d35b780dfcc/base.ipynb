{
 "cells": [
  {
   "cell_type": "code",
   "execution_count": 1,
   "id": "12c47f41",
   "metadata": {
    "name": "setup",
    "tags": [
     "remove_cell"
    ]
   },
   "outputs": [
    {
     "name": "stderr",
     "output_type": "stream",
     "text": [
      "── \u001b[1mAttaching packages\u001b[22m ────────────────────────────────────────────────────────────────────────────────────────────────────────────────────────────── tidyverse 1.3.1 ──\n",
      "\n"
     ]
    },
    {
     "name": "stderr",
     "output_type": "stream",
     "text": [
      "\u001b[32m✔\u001b[39m \u001b[34mggplot2\u001b[39m 3.3.5     \u001b[32m✔\u001b[39m \u001b[34mpurrr  \u001b[39m 0.3.4\n",
      "\u001b[32m✔\u001b[39m \u001b[34mtibble \u001b[39m 3.1.6     \u001b[32m✔\u001b[39m \u001b[34mdplyr  \u001b[39m 1.0.7\n",
      "\u001b[32m✔\u001b[39m \u001b[34mtidyr  \u001b[39m 1.1.4     \u001b[32m✔\u001b[39m \u001b[34mstringr\u001b[39m 1.4.0\n",
      "\u001b[32m✔\u001b[39m \u001b[34mreadr  \u001b[39m 2.1.1     \u001b[32m✔\u001b[39m \u001b[34mforcats\u001b[39m 0.5.1\n",
      "\n"
     ]
    },
    {
     "name": "stderr",
     "output_type": "stream",
     "text": [
      "── \u001b[1mConflicts\u001b[22m ───────────────────────────────────────────────────────────────────────────────────────────────────────────────────────────────── tidyverse_conflicts() ──\n",
      "\u001b[31m✖\u001b[39m \u001b[34mdplyr\u001b[39m::\u001b[32mfilter()\u001b[39m masks \u001b[34mstats\u001b[39m::filter()\n",
      "\u001b[31m✖\u001b[39m \u001b[34mdplyr\u001b[39m::\u001b[32mlag()\u001b[39m    masks \u001b[34mstats\u001b[39m::lag()\n",
      "\n"
     ]
    }
   ],
   "source": [
    "library(tidyverse)"
   ]
  },
  {
   "cell_type": "code",
   "execution_count": 2,
   "id": "ad3297ca-d00a-4449-9117-daf3ad0ff36d",
   "metadata": {
    "eval": true,
    "name": "csvtab"
   },
   "outputs": [],
   "source": [
    "read.csv(\n",
    "    \"data/ImportDataCSV.csv\",\n",
    "    sep = \",\",\n",
    "    header = TRUE\n",
    "    ) -> df.csv "
   ]
  },
  {
   "cell_type": "code",
   "execution_count": 3,
   "id": "4e835341-47cb-4c0c-8cbb-94b4c5444561",
   "metadata": {},
   "outputs": [],
   "source": [
    "read.csv(\n",
    "  \"data/ImportDataTAB.txt\",\n",
    "  sep = \"\\t\",\n",
    "  header = TRUE\n",
    "  ) -> df.tab"
   ]
  },
  {
   "cell_type": "code",
   "execution_count": 4,
   "id": "89329079-18cd-41ac-8069-9d5368db3ecd",
   "metadata": {
    "tags": []
   },
   "outputs": [
    {
     "data": {
      "text/html": [
       "<style>\n",
       ".list-inline {list-style: none; margin:0; padding: 0}\n",
       ".list-inline>li {display: inline-block}\n",
       ".list-inline>li:not(:last-child)::after {content: \"\\00b7\"; padding: 0 .5ex}\n",
       "</style>\n",
       "<ol class=list-inline><li>'x'</li><li>'y'</li><li>'z'</li></ol>\n"
      ],
      "text/latex": [
       "\\begin{enumerate*}\n",
       "\\item 'x'\n",
       "\\item 'y'\n",
       "\\item 'z'\n",
       "\\end{enumerate*}\n"
      ],
      "text/markdown": [
       "1. 'x'\n",
       "2. 'y'\n",
       "3. 'z'\n",
       "\n",
       "\n"
      ],
      "text/plain": [
       "[1] \"x\" \"y\" \"z\""
      ]
     },
     "metadata": {},
     "output_type": "display_data"
    },
    {
     "name": "stdout",
     "output_type": "stream",
     "text": [
      "Rows: 7\n",
      "Columns: 3\n",
      "$ x \u001b[3m\u001b[90m<int>\u001b[39m\u001b[23m 1, 4, 7, 10, 13, 16, 19\n",
      "$ y \u001b[3m\u001b[90m<int>\u001b[39m\u001b[23m 2, 5, 8, 11, 14, 17, 20\n",
      "$ z \u001b[3m\u001b[90m<int>\u001b[39m\u001b[23m 3, 6, 9, 12, 15, 18, 21\n"
     ]
    }
   ],
   "source": [
    "names(df.csv) \n",
    "\n",
    "glimpse(df.csv)"
   ]
  },
  {
   "cell_type": "code",
   "execution_count": 5,
   "id": "8b443792-89d2-43e2-a0c4-8e17f6a93316",
   "metadata": {},
   "outputs": [
    {
     "data": {
      "text/html": [
       "<style>\n",
       ".list-inline {list-style: none; margin:0; padding: 0}\n",
       ".list-inline>li {display: inline-block}\n",
       ".list-inline>li:not(:last-child)::after {content: \"\\00b7\"; padding: 0 .5ex}\n",
       "</style>\n",
       "<ol class=list-inline><li>'x'</li><li>'y'</li><li>'z'</li></ol>\n"
      ],
      "text/latex": [
       "\\begin{enumerate*}\n",
       "\\item 'x'\n",
       "\\item 'y'\n",
       "\\item 'z'\n",
       "\\end{enumerate*}\n"
      ],
      "text/markdown": [
       "1. 'x'\n",
       "2. 'y'\n",
       "3. 'z'\n",
       "\n",
       "\n"
      ],
      "text/plain": [
       "[1] \"x\" \"y\" \"z\""
      ]
     },
     "metadata": {},
     "output_type": "display_data"
    },
    {
     "name": "stdout",
     "output_type": "stream",
     "text": [
      "Rows: 7\n",
      "Columns: 3\n",
      "$ x \u001b[3m\u001b[90m<int>\u001b[39m\u001b[23m 1, 4, 7, 10, 13, 16, 19\n",
      "$ y \u001b[3m\u001b[90m<int>\u001b[39m\u001b[23m 2, 5, 8, 11, 14, 17, 20\n",
      "$ z \u001b[3m\u001b[90m<int>\u001b[39m\u001b[23m 3, 6, 9, 12, 15, 18, 21\n"
     ]
    }
   ],
   "source": [
    "# And now we repeat the preceding commands for the df.tab file\n",
    "\n",
    "names(df.tab)\n",
    "\n",
    "glimpse(df.tab)"
   ]
  },
  {
   "cell_type": "code",
   "execution_count": 6,
   "id": "429261ec",
   "metadata": {
    "eval": true,
    "name": "excel"
   },
   "outputs": [],
   "source": [
    "library(readxl)\n",
    "\n",
    "read_excel(\n",
    "  \"data/ImportDataXLS.xls\"\n",
    "  ) -> df.xls \n",
    "\n",
    "read_excel(\n",
    "  \"data/ImportDataXLSX.xlsx\"\n",
    "  ) -> df.xlsx"
   ]
  },
  {
   "cell_type": "code",
   "execution_count": 7,
   "id": "98e9e9e1-b025-4996-beb3-919a440bcde5",
   "metadata": {},
   "outputs": [
    {
     "data": {
      "text/html": [
       "<style>\n",
       ".list-inline {list-style: none; margin:0; padding: 0}\n",
       ".list-inline>li {display: inline-block}\n",
       ".list-inline>li:not(:last-child)::after {content: \"\\00b7\"; padding: 0 .5ex}\n",
       "</style>\n",
       "<ol class=list-inline><li>'x'</li><li>'y'</li><li>'z'</li></ol>\n"
      ],
      "text/latex": [
       "\\begin{enumerate*}\n",
       "\\item 'x'\n",
       "\\item 'y'\n",
       "\\item 'z'\n",
       "\\end{enumerate*}\n"
      ],
      "text/markdown": [
       "1. 'x'\n",
       "2. 'y'\n",
       "3. 'z'\n",
       "\n",
       "\n"
      ],
      "text/plain": [
       "[1] \"x\" \"y\" \"z\""
      ]
     },
     "metadata": {},
     "output_type": "display_data"
    },
    {
     "name": "stdout",
     "output_type": "stream",
     "text": [
      "Rows: 7\n",
      "Columns: 3\n",
      "$ x \u001b[3m\u001b[90m<dbl>\u001b[39m\u001b[23m 1, 4, 7, 10, 13, 16, 19\n",
      "$ y \u001b[3m\u001b[90m<dbl>\u001b[39m\u001b[23m 2, 5, 8, 11, 14, 17, 20\n",
      "$ z \u001b[3m\u001b[90m<dbl>\u001b[39m\u001b[23m 3, 6, 9, 12, 15, 18, 21\n"
     ]
    }
   ],
   "source": [
    "names(df.xls)\n",
    "\n",
    "glimpse(df.xls)"
   ]
  },
  {
   "cell_type": "code",
   "execution_count": 8,
   "id": "d892258d-76b1-4e23-8932-5451d85923df",
   "metadata": {},
   "outputs": [
    {
     "data": {
      "text/html": [
       "<style>\n",
       ".list-inline {list-style: none; margin:0; padding: 0}\n",
       ".list-inline>li {display: inline-block}\n",
       ".list-inline>li:not(:last-child)::after {content: \"\\00b7\"; padding: 0 .5ex}\n",
       "</style>\n",
       "<ol class=list-inline><li>'x'</li><li>'y'</li><li>'z'</li></ol>\n"
      ],
      "text/latex": [
       "\\begin{enumerate*}\n",
       "\\item 'x'\n",
       "\\item 'y'\n",
       "\\item 'z'\n",
       "\\end{enumerate*}\n"
      ],
      "text/markdown": [
       "1. 'x'\n",
       "2. 'y'\n",
       "3. 'z'\n",
       "\n",
       "\n"
      ],
      "text/plain": [
       "[1] \"x\" \"y\" \"z\""
      ]
     },
     "metadata": {},
     "output_type": "display_data"
    },
    {
     "name": "stdout",
     "output_type": "stream",
     "text": [
      "Rows: 7\n",
      "Columns: 3\n",
      "$ x \u001b[3m\u001b[90m<dbl>\u001b[39m\u001b[23m 1, 4, 7, 10, 13, 16, 19\n",
      "$ y \u001b[3m\u001b[90m<dbl>\u001b[39m\u001b[23m 2, 5, 8, 11, 14, 17, 20\n",
      "$ z \u001b[3m\u001b[90m<dbl>\u001b[39m\u001b[23m 3, 6, 9, 12, 15, 18, 21\n"
     ]
    }
   ],
   "source": [
    "names(df.xlsx)\n",
    "\n",
    "glimpse(df.xlsx)"
   ]
  },
  {
   "cell_type": "code",
   "execution_count": 9,
   "id": "f3af7ab3",
   "metadata": {
    "eval": true,
    "name": "others"
   },
   "outputs": [],
   "source": [
    "library(haven)\n",
    "\n",
    "read_stata(\n",
    "  \"data/ImportDataStata.dta\"\n",
    "  ) -> df.stata\n",
    "\n",
    "read_sas(\n",
    "  \"data/ImportDataSAS.sas7bdat\"\n",
    "  ) -> df.sas\n",
    "\n",
    "read_sav(\n",
    "  \"data/ImportDataSPSS.sav\"\n",
    "  ) -> df.spss"
   ]
  },
  {
   "cell_type": "code",
   "execution_count": 10,
   "id": "09a087c6-d798-472e-bba1-a149e45bfe5a",
   "metadata": {},
   "outputs": [
    {
     "data": {
      "text/html": [
       "<style>\n",
       ".list-inline {list-style: none; margin:0; padding: 0}\n",
       ".list-inline>li {display: inline-block}\n",
       ".list-inline>li:not(:last-child)::after {content: \"\\00b7\"; padding: 0 .5ex}\n",
       "</style>\n",
       "<ol class=list-inline><li>'x'</li><li>'y'</li><li>'z'</li></ol>\n"
      ],
      "text/latex": [
       "\\begin{enumerate*}\n",
       "\\item 'x'\n",
       "\\item 'y'\n",
       "\\item 'z'\n",
       "\\end{enumerate*}\n"
      ],
      "text/markdown": [
       "1. 'x'\n",
       "2. 'y'\n",
       "3. 'z'\n",
       "\n",
       "\n"
      ],
      "text/plain": [
       "[1] \"x\" \"y\" \"z\""
      ]
     },
     "metadata": {},
     "output_type": "display_data"
    },
    {
     "name": "stdout",
     "output_type": "stream",
     "text": [
      "Rows: 7\n",
      "Columns: 3\n",
      "$ x \u001b[3m\u001b[90m<dbl>\u001b[39m\u001b[23m 1, 4, 7, 10, 13, 16, 19\n",
      "$ y \u001b[3m\u001b[90m<dbl>\u001b[39m\u001b[23m 2, 5, 8, 11, 14, 17, 20\n",
      "$ z \u001b[3m\u001b[90m<dbl>\u001b[39m\u001b[23m 3, 6, 9, 12, 15, 18, 21\n"
     ]
    }
   ],
   "source": [
    "# Check the files\n",
    "\n",
    "names(df.stata)\n",
    "\n",
    "glimpse(df.sas)"
   ]
  },
  {
   "cell_type": "code",
   "execution_count": 11,
   "id": "b1d7d9c5",
   "metadata": {
    "eval": true,
    "name": "dfw"
   },
   "outputs": [],
   "source": [
    "read.fwf(\n",
    "  \"data/fwfdata.txt\",\n",
    "  widths = c(4, 9, 2, 4),\n",
    "  header = FALSE,\n",
    "  col.names = c(\"Name\", \"Month\", \"Day\", \"Year\")\n",
    "  ) -> df.fw "
   ]
  },
  {
   "cell_type": "code",
   "execution_count": 12,
   "id": "1b0f1e2b-30c2-4570-a63a-4c343435cf8c",
   "metadata": {},
   "outputs": [
    {
     "name": "stdout",
     "output_type": "stream",
     "text": [
      "Rows: 2\n",
      "Columns: 4\n",
      "$ Name  \u001b[3m\u001b[90m<chr>\u001b[39m\u001b[23m \"Amy \", \"Abby\"\n",
      "$ Month \u001b[3m\u001b[90m<chr>\u001b[39m\u001b[23m \" December\", \" December\"\n",
      "$ Day   \u001b[3m\u001b[90m<int>\u001b[39m\u001b[23m 1, 11\n",
      "$ Year  \u001b[3m\u001b[90m<int>\u001b[39m\u001b[23m 2017, 2017\n"
     ]
    }
   ],
   "source": [
    "glimpse(df.fw)"
   ]
  },
  {
   "cell_type": "code",
   "execution_count": 13,
   "id": "96942516",
   "metadata": {
    "eval": true,
    "name": "readfiles"
   },
   "outputs": [
    {
     "data": {
      "text/html": [
       "<table class=\"dataframe\">\n",
       "<caption>A data.frame: 20 × 3</caption>\n",
       "<thead>\n",
       "\t<tr><th></th><th scope=col>setting</th><th scope=col>effort</th><th scope=col>change</th></tr>\n",
       "\t<tr><th></th><th scope=col>&lt;int&gt;</th><th scope=col>&lt;int&gt;</th><th scope=col>&lt;int&gt;</th></tr>\n",
       "</thead>\n",
       "<tbody>\n",
       "\t<tr><th scope=row>Bolivia</th><td>46</td><td> 0</td><td> 1</td></tr>\n",
       "\t<tr><th scope=row>Brazil</th><td>74</td><td> 0</td><td>10</td></tr>\n",
       "\t<tr><th scope=row>Chile</th><td>89</td><td>16</td><td>29</td></tr>\n",
       "\t<tr><th scope=row>Colombia</th><td>77</td><td>16</td><td>25</td></tr>\n",
       "\t<tr><th scope=row>CostaRica</th><td>84</td><td>21</td><td>29</td></tr>\n",
       "\t<tr><th scope=row>Cuba</th><td>89</td><td>15</td><td>40</td></tr>\n",
       "\t<tr><th scope=row>DominicanRep</th><td>68</td><td>14</td><td>21</td></tr>\n",
       "\t<tr><th scope=row>Ecuador</th><td>70</td><td> 6</td><td> 0</td></tr>\n",
       "\t<tr><th scope=row>ElSalvador</th><td>60</td><td>13</td><td>13</td></tr>\n",
       "\t<tr><th scope=row>Guatemala</th><td>55</td><td> 9</td><td> 4</td></tr>\n",
       "\t<tr><th scope=row>Haiti</th><td>35</td><td> 3</td><td> 0</td></tr>\n",
       "\t<tr><th scope=row>Honduras</th><td>51</td><td> 7</td><td> 7</td></tr>\n",
       "\t<tr><th scope=row>Jamaica</th><td>87</td><td>23</td><td>21</td></tr>\n",
       "\t<tr><th scope=row>Mexico</th><td>83</td><td> 4</td><td> 9</td></tr>\n",
       "\t<tr><th scope=row>Nicaragua</th><td>68</td><td> 0</td><td> 7</td></tr>\n",
       "\t<tr><th scope=row>Panama</th><td>84</td><td>19</td><td>22</td></tr>\n",
       "\t<tr><th scope=row>Paraguay</th><td>74</td><td> 3</td><td> 6</td></tr>\n",
       "\t<tr><th scope=row>Peru</th><td>73</td><td> 0</td><td> 2</td></tr>\n",
       "\t<tr><th scope=row>TrinidadTobago</th><td>84</td><td>15</td><td>29</td></tr>\n",
       "\t<tr><th scope=row>Venezuela</th><td>91</td><td> 7</td><td>11</td></tr>\n",
       "</tbody>\n",
       "</table>\n"
      ],
      "text/latex": [
       "A data.frame: 20 × 3\n",
       "\\begin{tabular}{r|lll}\n",
       "  & setting & effort & change\\\\\n",
       "  & <int> & <int> & <int>\\\\\n",
       "\\hline\n",
       "\tBolivia & 46 &  0 &  1\\\\\n",
       "\tBrazil & 74 &  0 & 10\\\\\n",
       "\tChile & 89 & 16 & 29\\\\\n",
       "\tColombia & 77 & 16 & 25\\\\\n",
       "\tCostaRica & 84 & 21 & 29\\\\\n",
       "\tCuba & 89 & 15 & 40\\\\\n",
       "\tDominicanRep & 68 & 14 & 21\\\\\n",
       "\tEcuador & 70 &  6 &  0\\\\\n",
       "\tElSalvador & 60 & 13 & 13\\\\\n",
       "\tGuatemala & 55 &  9 &  4\\\\\n",
       "\tHaiti & 35 &  3 &  0\\\\\n",
       "\tHonduras & 51 &  7 &  7\\\\\n",
       "\tJamaica & 87 & 23 & 21\\\\\n",
       "\tMexico & 83 &  4 &  9\\\\\n",
       "\tNicaragua & 68 &  0 &  7\\\\\n",
       "\tPanama & 84 & 19 & 22\\\\\n",
       "\tParaguay & 74 &  3 &  6\\\\\n",
       "\tPeru & 73 &  0 &  2\\\\\n",
       "\tTrinidadTobago & 84 & 15 & 29\\\\\n",
       "\tVenezuela & 91 &  7 & 11\\\\\n",
       "\\end{tabular}\n"
      ],
      "text/markdown": [
       "\n",
       "A data.frame: 20 × 3\n",
       "\n",
       "| <!--/--> | setting &lt;int&gt; | effort &lt;int&gt; | change &lt;int&gt; |\n",
       "|---|---|---|---|\n",
       "| Bolivia | 46 |  0 |  1 |\n",
       "| Brazil | 74 |  0 | 10 |\n",
       "| Chile | 89 | 16 | 29 |\n",
       "| Colombia | 77 | 16 | 25 |\n",
       "| CostaRica | 84 | 21 | 29 |\n",
       "| Cuba | 89 | 15 | 40 |\n",
       "| DominicanRep | 68 | 14 | 21 |\n",
       "| Ecuador | 70 |  6 |  0 |\n",
       "| ElSalvador | 60 | 13 | 13 |\n",
       "| Guatemala | 55 |  9 |  4 |\n",
       "| Haiti | 35 |  3 |  0 |\n",
       "| Honduras | 51 |  7 |  7 |\n",
       "| Jamaica | 87 | 23 | 21 |\n",
       "| Mexico | 83 |  4 |  9 |\n",
       "| Nicaragua | 68 |  0 |  7 |\n",
       "| Panama | 84 | 19 | 22 |\n",
       "| Paraguay | 74 |  3 |  6 |\n",
       "| Peru | 73 |  0 |  2 |\n",
       "| TrinidadTobago | 84 | 15 | 29 |\n",
       "| Venezuela | 91 |  7 | 11 |\n",
       "\n"
      ],
      "text/plain": [
       "               setting effort change\n",
       "Bolivia        46       0      1    \n",
       "Brazil         74       0     10    \n",
       "Chile          89      16     29    \n",
       "Colombia       77      16     25    \n",
       "CostaRica      84      21     29    \n",
       "Cuba           89      15     40    \n",
       "DominicanRep   68      14     21    \n",
       "Ecuador        70       6      0    \n",
       "ElSalvador     60      13     13    \n",
       "Guatemala      55       9      4    \n",
       "Haiti          35       3      0    \n",
       "Honduras       51       7      7    \n",
       "Jamaica        87      23     21    \n",
       "Mexico         83       4      9    \n",
       "Nicaragua      68       0      7    \n",
       "Panama         84      19     22    \n",
       "Paraguay       74       3      6    \n",
       "Peru           73       0      2    \n",
       "TrinidadTobago 84      15     29    \n",
       "Venezuela      91       7     11    "
      ]
     },
     "metadata": {},
     "output_type": "display_data"
    }
   ],
   "source": [
    "read.table(\n",
    "  \"http://data.princeton.edu/wws509/datasets/effort.dat\"\n",
    "  ) -> fpe \n",
    "\n",
    "fpe # This command asks R to show us what fpe contains "
   ]
  },
  {
   "cell_type": "code",
   "execution_count": 14,
   "id": "57a97fc0-b3f2-4caf-8a58-7fc7723ea0e9",
   "metadata": {},
   "outputs": [
    {
     "name": "stderr",
     "output_type": "stream",
     "text": [
      "\u001b[1mRows: \u001b[22m\u001b[34m8\u001b[39m \u001b[1mColumns: \u001b[22m\u001b[34m6\u001b[39m\n",
      "\n"
     ]
    },
    {
     "name": "stderr",
     "output_type": "stream",
     "text": [
      "\u001b[36m──\u001b[39m \u001b[1mColumn specification\u001b[22m \u001b[36m───────────────────────────────────────────────────────────────────────────────────────────────────────────────────────────────────────────────\u001b[39m\n",
      "\u001b[1mDelimiter:\u001b[22m \",\"\n",
      "\u001b[31mchr\u001b[39m (1): prgtype\n",
      "\u001b[32mdbl\u001b[39m (5): gender, id, ses, schtyp, level\n",
      "\n"
     ]
    },
    {
     "name": "stderr",
     "output_type": "stream",
     "text": [
      "\n",
      "\u001b[36mℹ\u001b[39m Use \u001b[30m\u001b[47m\u001b[30m\u001b[47m`spec()`\u001b[47m\u001b[30m\u001b[49m\u001b[39m to retrieve the full column specification for this data.\n",
      "\u001b[36mℹ\u001b[39m Specify the column types or set \u001b[30m\u001b[47m\u001b[30m\u001b[47m`show_col_types = FALSE`\u001b[47m\u001b[30m\u001b[49m\u001b[39m to quiet this message.\n",
      "\n"
     ]
    }
   ],
   "source": [
    "read.table(\n",
    "  \"https://stats.idre.ucla.edu/stat/data/test.txt\",\n",
    "  header = TRUE\n",
    "  ) -> test.txt \n",
    "\n",
    "read_csv(\n",
    "  \"https://stats.idre.ucla.edu/stat/data/test.csv\"\n",
    "  ) -> test.csv\n",
    "\n",
    "read_sav(\n",
    "  \"https://stats.idre.ucla.edu/stat/data/hsb2.sav\"\n",
    "  ) -> hsb2.spss "
   ]
  },
  {
   "cell_type": "code",
   "execution_count": 15,
   "id": "127f34cd-2031-4395-82ab-349a210e7bb6",
   "metadata": {},
   "outputs": [],
   "source": [
    "read.table(\n",
    "  'https://stats.idre.ucla.edu/stat/data/hsb2.csv',\n",
    "  header = TRUE,\n",
    "  sep = \",\"\n",
    "  ) -> hsb2"
   ]
  },
  {
   "cell_type": "code",
   "execution_count": 16,
   "id": "17ee103b-74fe-4c01-bacd-103970bb91b9",
   "metadata": {},
   "outputs": [
    {
     "data": {
      "text/plain": [
       "       id             female           race           ses            schtyp    \n",
       " Min.   :  1.00   Min.   :0.000   Min.   :1.00   Min.   :1.000   Min.   :1.00  \n",
       " 1st Qu.: 50.75   1st Qu.:0.000   1st Qu.:3.00   1st Qu.:2.000   1st Qu.:1.00  \n",
       " Median :100.50   Median :1.000   Median :4.00   Median :2.000   Median :1.00  \n",
       " Mean   :100.50   Mean   :0.545   Mean   :3.43   Mean   :2.055   Mean   :1.16  \n",
       " 3rd Qu.:150.25   3rd Qu.:1.000   3rd Qu.:4.00   3rd Qu.:3.000   3rd Qu.:1.00  \n",
       " Max.   :200.00   Max.   :1.000   Max.   :4.00   Max.   :3.000   Max.   :2.00  \n",
       "      prog            read           write            math      \n",
       " Min.   :1.000   Min.   :28.00   Min.   :31.00   Min.   :33.00  \n",
       " 1st Qu.:2.000   1st Qu.:44.00   1st Qu.:45.75   1st Qu.:45.00  \n",
       " Median :2.000   Median :50.00   Median :54.00   Median :52.00  \n",
       " Mean   :2.025   Mean   :52.23   Mean   :52.77   Mean   :52.65  \n",
       " 3rd Qu.:2.250   3rd Qu.:60.00   3rd Qu.:60.00   3rd Qu.:59.00  \n",
       " Max.   :3.000   Max.   :76.00   Max.   :67.00   Max.   :75.00  \n",
       "    science          socst      \n",
       " Min.   :26.00   Min.   :26.00  \n",
       " 1st Qu.:44.00   1st Qu.:46.00  \n",
       " Median :53.00   Median :52.00  \n",
       " Mean   :51.85   Mean   :52.41  \n",
       " 3rd Qu.:58.00   3rd Qu.:61.00  \n",
       " Max.   :74.00   Max.   :71.00  "
      ]
     },
     "metadata": {},
     "output_type": "display_data"
    }
   ],
   "source": [
    "summary(hsb2)"
   ]
  },
  {
   "cell_type": "code",
   "execution_count": 17,
   "id": "29ef6476-3eaf-4b87-a7b9-9b80ad783b59",
   "metadata": {},
   "outputs": [],
   "source": [
    "factor(hsb2$female,\n",
    "       levels = c(0, 1),\n",
    "       labels = c(\"Male\", \"Female\")\n",
    "       ) -> hsb2$female.f \n",
    "\n",
    "factor(hsb2$race,\n",
    "       levels = c(1:4),\n",
    "       labels = c(\"Hispanic\", \"Asian\", \"African American\", \"White\")\n",
    "       ) -> hsb2$race.f\n",
    "\n",
    "factor(hsb2$ses,\n",
    "       levels = c(1:3),\n",
    "       labels = c(\"Low\", \"Middle\", \"High\")\n",
    "       ) -> hsb2$ses.f\n",
    "\n",
    "factor(hsb2$schtyp,\n",
    "       levels = c(1:2),\n",
    "       labels = c(\"Public\", \"Private\")\n",
    "       ) -> hsb2$schtyp.f\n",
    "\n",
    "factor(hsb2$prog,\n",
    "       levels = c(1:3),\n",
    "       labels = c(\"General\", \"Academic\", \"Vocational\")\n",
    "       ) -> hsb2$prog.f"
   ]
  },
  {
   "cell_type": "code",
   "execution_count": 18,
   "id": "2015ebbb-116a-473e-8842-818d079ce28e",
   "metadata": {},
   "outputs": [
    {
     "data": {
      "text/plain": [
       "       id             female           race           ses            schtyp    \n",
       " Min.   :  1.00   Min.   :0.000   Min.   :1.00   Min.   :1.000   Min.   :1.00  \n",
       " 1st Qu.: 50.75   1st Qu.:0.000   1st Qu.:3.00   1st Qu.:2.000   1st Qu.:1.00  \n",
       " Median :100.50   Median :1.000   Median :4.00   Median :2.000   Median :1.00  \n",
       " Mean   :100.50   Mean   :0.545   Mean   :3.43   Mean   :2.055   Mean   :1.16  \n",
       " 3rd Qu.:150.25   3rd Qu.:1.000   3rd Qu.:4.00   3rd Qu.:3.000   3rd Qu.:1.00  \n",
       " Max.   :200.00   Max.   :1.000   Max.   :4.00   Max.   :3.000   Max.   :2.00  \n",
       "      prog            read           write            math      \n",
       " Min.   :1.000   Min.   :28.00   Min.   :31.00   Min.   :33.00  \n",
       " 1st Qu.:2.000   1st Qu.:44.00   1st Qu.:45.75   1st Qu.:45.00  \n",
       " Median :2.000   Median :50.00   Median :54.00   Median :52.00  \n",
       " Mean   :2.025   Mean   :52.23   Mean   :52.77   Mean   :52.65  \n",
       " 3rd Qu.:2.250   3rd Qu.:60.00   3rd Qu.:60.00   3rd Qu.:59.00  \n",
       " Max.   :3.000   Max.   :76.00   Max.   :67.00   Max.   :75.00  \n",
       "    science          socst         female.f                race.f   \n",
       " Min.   :26.00   Min.   :26.00   Male  : 91   Hispanic        : 24  \n",
       " 1st Qu.:44.00   1st Qu.:46.00   Female:109   Asian           : 11  \n",
       " Median :53.00   Median :52.00                African American: 20  \n",
       " Mean   :51.85   Mean   :52.41                White           :145  \n",
       " 3rd Qu.:58.00   3rd Qu.:61.00                                      \n",
       " Max.   :74.00   Max.   :71.00                                      \n",
       "    ses.f       schtyp.f          prog.f   \n",
       " Low   :47   Public :168   General   : 45  \n",
       " Middle:95   Private: 32   Academic  :105  \n",
       " High  :58                 Vocational: 50  \n",
       "                                           \n",
       "                                           \n",
       "                                           "
      ]
     },
     "metadata": {},
     "output_type": "display_data"
    }
   ],
   "source": [
    "summary(hsb2)"
   ]
  },
  {
   "cell_type": "code",
   "execution_count": 19,
   "id": "ef874998-8451-434d-b944-1396ba414a35",
   "metadata": {},
   "outputs": [],
   "source": [
    "save(hsb2, file = \"data/hsb2.RData\")"
   ]
  },
  {
   "cell_type": "code",
   "execution_count": 20,
   "id": "94d36432-6bff-4ff3-a1ff-5b6203f4743b",
   "metadata": {},
   "outputs": [],
   "source": [
    "load(\"data/hsb2.RData\")"
   ]
  },
  {
   "cell_type": "code",
   "execution_count": 21,
   "id": "667988b5-416b-4c88-a525-774b82f02cb7",
   "metadata": {},
   "outputs": [
    {
     "data": {
      "text/plain": [
       "       id             female           race           ses            schtyp    \n",
       " Min.   :  1.00   Min.   :0.000   Min.   :1.00   Min.   :1.000   Min.   :1.00  \n",
       " 1st Qu.: 50.75   1st Qu.:0.000   1st Qu.:3.00   1st Qu.:2.000   1st Qu.:1.00  \n",
       " Median :100.50   Median :1.000   Median :4.00   Median :2.000   Median :1.00  \n",
       " Mean   :100.50   Mean   :0.545   Mean   :3.43   Mean   :2.055   Mean   :1.16  \n",
       " 3rd Qu.:150.25   3rd Qu.:1.000   3rd Qu.:4.00   3rd Qu.:3.000   3rd Qu.:1.00  \n",
       " Max.   :200.00   Max.   :1.000   Max.   :4.00   Max.   :3.000   Max.   :2.00  \n",
       "      prog            read           write            math      \n",
       " Min.   :1.000   Min.   :28.00   Min.   :31.00   Min.   :33.00  \n",
       " 1st Qu.:2.000   1st Qu.:44.00   1st Qu.:45.75   1st Qu.:45.00  \n",
       " Median :2.000   Median :50.00   Median :54.00   Median :52.00  \n",
       " Mean   :2.025   Mean   :52.23   Mean   :52.77   Mean   :52.65  \n",
       " 3rd Qu.:2.250   3rd Qu.:60.00   3rd Qu.:60.00   3rd Qu.:59.00  \n",
       " Max.   :3.000   Max.   :76.00   Max.   :67.00   Max.   :75.00  \n",
       "    science          socst         female.f                race.f   \n",
       " Min.   :26.00   Min.   :26.00   Male  : 91   Hispanic        : 24  \n",
       " 1st Qu.:44.00   1st Qu.:46.00   Female:109   Asian           : 11  \n",
       " Median :53.00   Median :52.00                African American: 20  \n",
       " Mean   :51.85   Mean   :52.41                White           :145  \n",
       " 3rd Qu.:58.00   3rd Qu.:61.00                                      \n",
       " Max.   :74.00   Max.   :71.00                                      \n",
       "    ses.f       schtyp.f          prog.f   \n",
       " Low   :47   Public :168   General   : 45  \n",
       " Middle:95   Private: 32   Academic  :105  \n",
       " High  :58                 Vocational: 50  \n",
       "                                           \n",
       "                                           \n",
       "                                           "
      ]
     },
     "metadata": {},
     "output_type": "display_data"
    }
   ],
   "source": [
    "summary(hsb2)"
   ]
  },
  {
   "cell_type": "code",
   "execution_count": 22,
   "id": "9b1eda6c-cb08-4587-b5d1-35b8f078dd2e",
   "metadata": {},
   "outputs": [
    {
     "name": "stdout",
     "output_type": "stream",
     "text": [
      "\n",
      "The downloaded binary packages are in\n",
      "\t/var/folders/qh/6q39v0755_54rxmbl8m5ttnwy0twd7/T//RtmpiY9PUm/downloaded_packages\n"
     ]
    },
    {
     "data": {
      "text/html": [
       "<table class=\"dataframe\">\n",
       "<caption>A tibble: 6 × 8</caption>\n",
       "<thead>\n",
       "\t<tr><th scope=col>species</th><th scope=col>island</th><th scope=col>bill_length_mm</th><th scope=col>bill_depth_mm</th><th scope=col>flipper_length_mm</th><th scope=col>body_mass_g</th><th scope=col>sex</th><th scope=col>year</th></tr>\n",
       "\t<tr><th scope=col>&lt;fct&gt;</th><th scope=col>&lt;fct&gt;</th><th scope=col>&lt;dbl&gt;</th><th scope=col>&lt;dbl&gt;</th><th scope=col>&lt;int&gt;</th><th scope=col>&lt;int&gt;</th><th scope=col>&lt;fct&gt;</th><th scope=col>&lt;int&gt;</th></tr>\n",
       "</thead>\n",
       "<tbody>\n",
       "\t<tr><td>Adelie</td><td>Torgersen</td><td>39.1</td><td>18.7</td><td>181</td><td>3750</td><td>male  </td><td>2007</td></tr>\n",
       "\t<tr><td>Adelie</td><td>Torgersen</td><td>39.5</td><td>17.4</td><td>186</td><td>3800</td><td>female</td><td>2007</td></tr>\n",
       "\t<tr><td>Adelie</td><td>Torgersen</td><td>40.3</td><td>18.0</td><td>195</td><td>3250</td><td>female</td><td>2007</td></tr>\n",
       "\t<tr><td>Adelie</td><td>Torgersen</td><td>  NA</td><td>  NA</td><td> NA</td><td>  NA</td><td>NA    </td><td>2007</td></tr>\n",
       "\t<tr><td>Adelie</td><td>Torgersen</td><td>36.7</td><td>19.3</td><td>193</td><td>3450</td><td>female</td><td>2007</td></tr>\n",
       "\t<tr><td>Adelie</td><td>Torgersen</td><td>39.3</td><td>20.6</td><td>190</td><td>3650</td><td>male  </td><td>2007</td></tr>\n",
       "</tbody>\n",
       "</table>\n"
      ],
      "text/latex": [
       "A tibble: 6 × 8\n",
       "\\begin{tabular}{llllllll}\n",
       " species & island & bill\\_length\\_mm & bill\\_depth\\_mm & flipper\\_length\\_mm & body\\_mass\\_g & sex & year\\\\\n",
       " <fct> & <fct> & <dbl> & <dbl> & <int> & <int> & <fct> & <int>\\\\\n",
       "\\hline\n",
       "\t Adelie & Torgersen & 39.1 & 18.7 & 181 & 3750 & male   & 2007\\\\\n",
       "\t Adelie & Torgersen & 39.5 & 17.4 & 186 & 3800 & female & 2007\\\\\n",
       "\t Adelie & Torgersen & 40.3 & 18.0 & 195 & 3250 & female & 2007\\\\\n",
       "\t Adelie & Torgersen &   NA &   NA &  NA &   NA & NA     & 2007\\\\\n",
       "\t Adelie & Torgersen & 36.7 & 19.3 & 193 & 3450 & female & 2007\\\\\n",
       "\t Adelie & Torgersen & 39.3 & 20.6 & 190 & 3650 & male   & 2007\\\\\n",
       "\\end{tabular}\n"
      ],
      "text/markdown": [
       "\n",
       "A tibble: 6 × 8\n",
       "\n",
       "| species &lt;fct&gt; | island &lt;fct&gt; | bill_length_mm &lt;dbl&gt; | bill_depth_mm &lt;dbl&gt; | flipper_length_mm &lt;int&gt; | body_mass_g &lt;int&gt; | sex &lt;fct&gt; | year &lt;int&gt; |\n",
       "|---|---|---|---|---|---|---|---|\n",
       "| Adelie | Torgersen | 39.1 | 18.7 | 181 | 3750 | male   | 2007 |\n",
       "| Adelie | Torgersen | 39.5 | 17.4 | 186 | 3800 | female | 2007 |\n",
       "| Adelie | Torgersen | 40.3 | 18.0 | 195 | 3250 | female | 2007 |\n",
       "| Adelie | Torgersen |   NA |   NA |  NA |   NA | NA     | 2007 |\n",
       "| Adelie | Torgersen | 36.7 | 19.3 | 193 | 3450 | female | 2007 |\n",
       "| Adelie | Torgersen | 39.3 | 20.6 | 190 | 3650 | male   | 2007 |\n",
       "\n"
      ],
      "text/plain": [
       "  species island    bill_length_mm bill_depth_mm flipper_length_mm body_mass_g\n",
       "1 Adelie  Torgersen 39.1           18.7          181               3750       \n",
       "2 Adelie  Torgersen 39.5           17.4          186               3800       \n",
       "3 Adelie  Torgersen 40.3           18.0          195               3250       \n",
       "4 Adelie  Torgersen   NA             NA           NA                 NA       \n",
       "5 Adelie  Torgersen 36.7           19.3          193               3450       \n",
       "6 Adelie  Torgersen 39.3           20.6          190               3650       \n",
       "  sex    year\n",
       "1 male   2007\n",
       "2 female 2007\n",
       "3 female 2007\n",
       "4 NA     2007\n",
       "5 female 2007\n",
       "6 male   2007"
      ]
     },
     "metadata": {},
     "output_type": "display_data"
    }
   ],
   "source": [
    "install.packages('palmerpenguins')\n",
    "\n",
    "library(palmerpenguins)\n",
    "\n",
    "data(penguins, package = 'palmerpenguins')\n",
    "\n",
    "head(penguins)"
   ]
  },
  {
   "cell_type": "code",
   "execution_count": 23,
   "id": "952501a5-d078-4c5c-8c85-6c2a78b9e090",
   "metadata": {},
   "outputs": [
    {
     "data": {
      "text/html": [
       "<table class=\"dataframe\">\n",
       "<caption>A tibble: 6 × 10</caption>\n",
       "<thead>\n",
       "\t<tr><th scope=col>carat</th><th scope=col>cut</th><th scope=col>color</th><th scope=col>clarity</th><th scope=col>depth</th><th scope=col>table</th><th scope=col>price</th><th scope=col>x</th><th scope=col>y</th><th scope=col>z</th></tr>\n",
       "\t<tr><th scope=col>&lt;dbl&gt;</th><th scope=col>&lt;ord&gt;</th><th scope=col>&lt;ord&gt;</th><th scope=col>&lt;ord&gt;</th><th scope=col>&lt;dbl&gt;</th><th scope=col>&lt;dbl&gt;</th><th scope=col>&lt;int&gt;</th><th scope=col>&lt;dbl&gt;</th><th scope=col>&lt;dbl&gt;</th><th scope=col>&lt;dbl&gt;</th></tr>\n",
       "</thead>\n",
       "<tbody>\n",
       "\t<tr><td>0.23</td><td>Ideal    </td><td>E</td><td>SI2 </td><td>61.5</td><td>55</td><td>326</td><td>3.95</td><td>3.98</td><td>2.43</td></tr>\n",
       "\t<tr><td>0.21</td><td>Premium  </td><td>E</td><td>SI1 </td><td>59.8</td><td>61</td><td>326</td><td>3.89</td><td>3.84</td><td>2.31</td></tr>\n",
       "\t<tr><td>0.23</td><td>Good     </td><td>E</td><td>VS1 </td><td>56.9</td><td>65</td><td>327</td><td>4.05</td><td>4.07</td><td>2.31</td></tr>\n",
       "\t<tr><td>0.29</td><td>Premium  </td><td>I</td><td>VS2 </td><td>62.4</td><td>58</td><td>334</td><td>4.20</td><td>4.23</td><td>2.63</td></tr>\n",
       "\t<tr><td>0.31</td><td>Good     </td><td>J</td><td>SI2 </td><td>63.3</td><td>58</td><td>335</td><td>4.34</td><td>4.35</td><td>2.75</td></tr>\n",
       "\t<tr><td>0.24</td><td>Very Good</td><td>J</td><td>VVS2</td><td>62.8</td><td>57</td><td>336</td><td>3.94</td><td>3.96</td><td>2.48</td></tr>\n",
       "</tbody>\n",
       "</table>\n"
      ],
      "text/latex": [
       "A tibble: 6 × 10\n",
       "\\begin{tabular}{llllllllll}\n",
       " carat & cut & color & clarity & depth & table & price & x & y & z\\\\\n",
       " <dbl> & <ord> & <ord> & <ord> & <dbl> & <dbl> & <int> & <dbl> & <dbl> & <dbl>\\\\\n",
       "\\hline\n",
       "\t 0.23 & Ideal     & E & SI2  & 61.5 & 55 & 326 & 3.95 & 3.98 & 2.43\\\\\n",
       "\t 0.21 & Premium   & E & SI1  & 59.8 & 61 & 326 & 3.89 & 3.84 & 2.31\\\\\n",
       "\t 0.23 & Good      & E & VS1  & 56.9 & 65 & 327 & 4.05 & 4.07 & 2.31\\\\\n",
       "\t 0.29 & Premium   & I & VS2  & 62.4 & 58 & 334 & 4.20 & 4.23 & 2.63\\\\\n",
       "\t 0.31 & Good      & J & SI2  & 63.3 & 58 & 335 & 4.34 & 4.35 & 2.75\\\\\n",
       "\t 0.24 & Very Good & J & VVS2 & 62.8 & 57 & 336 & 3.94 & 3.96 & 2.48\\\\\n",
       "\\end{tabular}\n"
      ],
      "text/markdown": [
       "\n",
       "A tibble: 6 × 10\n",
       "\n",
       "| carat &lt;dbl&gt; | cut &lt;ord&gt; | color &lt;ord&gt; | clarity &lt;ord&gt; | depth &lt;dbl&gt; | table &lt;dbl&gt; | price &lt;int&gt; | x &lt;dbl&gt; | y &lt;dbl&gt; | z &lt;dbl&gt; |\n",
       "|---|---|---|---|---|---|---|---|---|---|\n",
       "| 0.23 | Ideal     | E | SI2  | 61.5 | 55 | 326 | 3.95 | 3.98 | 2.43 |\n",
       "| 0.21 | Premium   | E | SI1  | 59.8 | 61 | 326 | 3.89 | 3.84 | 2.31 |\n",
       "| 0.23 | Good      | E | VS1  | 56.9 | 65 | 327 | 4.05 | 4.07 | 2.31 |\n",
       "| 0.29 | Premium   | I | VS2  | 62.4 | 58 | 334 | 4.20 | 4.23 | 2.63 |\n",
       "| 0.31 | Good      | J | SI2  | 63.3 | 58 | 335 | 4.34 | 4.35 | 2.75 |\n",
       "| 0.24 | Very Good | J | VVS2 | 62.8 | 57 | 336 | 3.94 | 3.96 | 2.48 |\n",
       "\n"
      ],
      "text/plain": [
       "  carat cut       color clarity depth table price x    y    z   \n",
       "1 0.23  Ideal     E     SI2     61.5  55    326   3.95 3.98 2.43\n",
       "2 0.21  Premium   E     SI1     59.8  61    326   3.89 3.84 2.31\n",
       "3 0.23  Good      E     VS1     56.9  65    327   4.05 4.07 2.31\n",
       "4 0.29  Premium   I     VS2     62.4  58    334   4.20 4.23 2.63\n",
       "5 0.31  Good      J     SI2     63.3  58    335   4.34 4.35 2.75\n",
       "6 0.24  Very Good J     VVS2    62.8  57    336   3.94 3.96 2.48"
      ]
     },
     "metadata": {},
     "output_type": "display_data"
    }
   ],
   "source": [
    "library(ggplot2)\n",
    "\n",
    "data(diamonds, package = 'ggplot2')\n",
    "\n",
    "head(diamonds)"
   ]
  }
 ],
 "metadata": {
  "jupytext": {
   "cell_metadata_filter": "name,eval,tags,-all",
   "main_language": "R",
   "notebook_metadata_filter": "-all"
  },
  "kernelspec": {
   "display_name": "R",
   "language": "R",
   "name": "ir"
  },
  "language_info": {
   "codemirror_mode": "r",
   "file_extension": ".r",
   "mimetype": "text/x-r-source",
   "name": "R",
   "pygments_lexer": "r",
   "version": "4.1.2"
  }
 },
 "nbformat": 4,
 "nbformat_minor": 5
}