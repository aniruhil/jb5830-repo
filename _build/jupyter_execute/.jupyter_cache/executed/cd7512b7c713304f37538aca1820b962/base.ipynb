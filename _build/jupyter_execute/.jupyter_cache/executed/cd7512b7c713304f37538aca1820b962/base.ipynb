version https://git-lfs.github.com/spec/v1
oid sha256:f6c892c46427907df5c3b16751af4389c570432333dd95aee1401e71bdb53a93
size 29492317
