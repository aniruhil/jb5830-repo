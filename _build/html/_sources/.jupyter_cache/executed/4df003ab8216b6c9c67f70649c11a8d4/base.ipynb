version https://git-lfs.github.com/spec/v1
oid sha256:7ed5639253332930b09b1ff228cda3a6dc876e62847cfe8be378e1ee4345da58
size 426268
