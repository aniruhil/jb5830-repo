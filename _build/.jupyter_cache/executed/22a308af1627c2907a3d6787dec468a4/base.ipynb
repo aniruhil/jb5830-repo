{
 "cells": [
  {
   "cell_type": "code",
   "execution_count": 1,
   "id": "af73a518",
   "metadata": {
    "name": "tidy01"
   },
   "outputs": [
    {
     "name": "stderr",
     "output_type": "stream",
     "text": [
      "── \u001b[1mAttaching packages\u001b[22m ────────────────────────────────────────────────────────────────────────────────────────────────────────────────────────────── tidyverse 1.3.1 ──\n",
      "\n"
     ]
    },
    {
     "name": "stderr",
     "output_type": "stream",
     "text": [
      "\u001b[32m✔\u001b[39m \u001b[34mggplot2\u001b[39m 3.3.5     \u001b[32m✔\u001b[39m \u001b[34mpurrr  \u001b[39m 0.3.4\n",
      "\u001b[32m✔\u001b[39m \u001b[34mtibble \u001b[39m 3.1.6     \u001b[32m✔\u001b[39m \u001b[34mdplyr  \u001b[39m 1.0.7\n",
      "\u001b[32m✔\u001b[39m \u001b[34mtidyr  \u001b[39m 1.1.4     \u001b[32m✔\u001b[39m \u001b[34mstringr\u001b[39m 1.4.0\n",
      "\u001b[32m✔\u001b[39m \u001b[34mreadr  \u001b[39m 2.1.1     \u001b[32m✔\u001b[39m \u001b[34mforcats\u001b[39m 0.5.1\n",
      "\n"
     ]
    },
    {
     "name": "stderr",
     "output_type": "stream",
     "text": [
      "── \u001b[1mConflicts\u001b[22m ───────────────────────────────────────────────────────────────────────────────────────────────────────────────────────────────── tidyverse_conflicts() ──\n",
      "\u001b[31m✖\u001b[39m \u001b[34mdplyr\u001b[39m::\u001b[32mfilter()\u001b[39m masks \u001b[34mstats\u001b[39m::filter()\n",
      "\u001b[31m✖\u001b[39m \u001b[34mdplyr\u001b[39m::\u001b[32mlag()\u001b[39m    masks \u001b[34mstats\u001b[39m::lag()\n",
      "\n"
     ]
    },
    {
     "name": "stderr",
     "output_type": "stream",
     "text": [
      "\u001b[1mRows: \u001b[22m\u001b[34m2789\u001b[39m \u001b[1mColumns: \u001b[22m\u001b[34m88\u001b[39m\n",
      "\n"
     ]
    },
    {
     "name": "stderr",
     "output_type": "stream",
     "text": [
      "\u001b[36m──\u001b[39m \u001b[1mColumn specification\u001b[22m \u001b[36m───────────────────────────────────────────────────────────────────────────────────────────────────────────────────────────────────────────────\u001b[39m\n",
      "\u001b[1mDelimiter:\u001b[22m \",\"\n",
      "\u001b[31mchr\u001b[39m  (3): STCOU, NAME, LSAD\n",
      "\u001b[32mdbl\u001b[39m (85): CBSA, MDIV, CENSUS2010POP, ESTIMATESBASE2010, POPESTIMATE2010, POP...\n",
      "\n"
     ]
    },
    {
     "name": "stderr",
     "output_type": "stream",
     "text": [
      "\n",
      "\u001b[36mℹ\u001b[39m Use \u001b[30m\u001b[47m\u001b[30m\u001b[47m`spec()`\u001b[47m\u001b[30m\u001b[49m\u001b[39m to retrieve the full column specification for this data.\n",
      "\u001b[36mℹ\u001b[39m Specify the column types or set \u001b[30m\u001b[47m\u001b[30m\u001b[47m`show_col_types = FALSE`\u001b[47m\u001b[30m\u001b[49m\u001b[39m to quiet this message.\n",
      "\n"
     ]
    },
    {
     "name": "stdout",
     "output_type": "stream",
     "text": [
      "Rows: 2,789\n",
      "Columns: 1\n",
      "$ NAME \u001b[3m\u001b[90m<chr>\u001b[39m\u001b[23m \"Abilene, TX\", \"Callahan County, TX\", \"Jones County, TX\", \"Taylor…\n"
     ]
    }
   ],
   "source": [
    "library(tidyverse)\n",
    "\n",
    "read_csv(\n",
    "  \"https://www2.census.gov/programs-surveys/popest/datasets/2010-2018/metro/totals/cbsa-est2018-alldata.csv\"\n",
    "  ) -> cbsa\n",
    "\n",
    "cbsa %>%\n",
    "  select(NAME) %>%\n",
    "  glimpse()\n",
    "  "
   ]
  },
  {
   "cell_type": "code",
   "execution_count": 2,
   "id": "3ee857d4-5f79-42b2-9486-70f83c36068d",
   "metadata": {
    "name": "tidy02"
   },
   "outputs": [
    {
     "name": "stderr",
     "output_type": "stream",
     "text": [
      "Warning message in gregexpr(pattern, x, perl = TRUE):\n",
      "“PCRE error\n",
      "\t'UTF-8 error: byte 2 top bits not 0x80'\n",
      "\tfor element 800”\n"
     ]
    },
    {
     "name": "stderr",
     "output_type": "stream",
     "text": [
      "Warning message in gregexpr(pattern, x, perl = TRUE):\n",
      "“PCRE error\n",
      "\t'UTF-8 error: byte 2 top bits not 0x80'\n",
      "\tfor element 1767”\n"
     ]
    },
    {
     "name": "stderr",
     "output_type": "stream",
     "text": [
      "Warning message in gregexpr(pattern, x, perl = TRUE):\n",
      "“PCRE error\n",
      "\t'UTF-8 error: byte 2 top bits not 0x80'\n",
      "\tfor element 1931”\n"
     ]
    },
    {
     "name": "stderr",
     "output_type": "stream",
     "text": [
      "Warning message:\n",
      "“Expected 2 pieces. Missing pieces filled with `NA` in 3 rows [800, 1767, 1931].”\n"
     ]
    }
   ],
   "source": [
    "cbsa %>%\n",
    "  separate(\n",
    "    col = NAME, \n",
    "    into = c(\"placename\", \"stateabb\"),\n",
    "    sep = \", \",\n",
    "    remove = FALSE\n",
    "  ) -> cbsa "
   ]
  },
  {
   "cell_type": "code",
   "execution_count": 3,
   "id": "ec27c070-e311-4c87-98e6-c8bc5c085942",
   "metadata": {
    "name": "tidy02"
   },
   "outputs": [
    {
     "data": {
      "text/html": [
       "<table class=\"dataframe\">\n",
       "<caption>A tibble: 6 × 3</caption>\n",
       "<thead>\n",
       "\t<tr><th scope=col>NAME</th><th scope=col>placename</th><th scope=col>stateabb</th></tr>\n",
       "\t<tr><th scope=col>&lt;chr&gt;</th><th scope=col>&lt;chr&gt;</th><th scope=col>&lt;chr&gt;</th></tr>\n",
       "</thead>\n",
       "<tbody>\n",
       "\t<tr><td>Abilene, TX        </td><td>Abilene        </td><td>TX</td></tr>\n",
       "\t<tr><td>Callahan County, TX</td><td>Callahan County</td><td>TX</td></tr>\n",
       "\t<tr><td>Jones County, TX   </td><td>Jones County   </td><td>TX</td></tr>\n",
       "\t<tr><td>Taylor County, TX  </td><td>Taylor County  </td><td>TX</td></tr>\n",
       "\t<tr><td>Akron, OH          </td><td>Akron          </td><td>OH</td></tr>\n",
       "\t<tr><td>Portage County, OH </td><td>Portage County </td><td>OH</td></tr>\n",
       "</tbody>\n",
       "</table>\n"
      ],
      "text/latex": [
       "A tibble: 6 × 3\n",
       "\\begin{tabular}{lll}\n",
       " NAME & placename & stateabb\\\\\n",
       " <chr> & <chr> & <chr>\\\\\n",
       "\\hline\n",
       "\t Abilene, TX         & Abilene         & TX\\\\\n",
       "\t Callahan County, TX & Callahan County & TX\\\\\n",
       "\t Jones County, TX    & Jones County    & TX\\\\\n",
       "\t Taylor County, TX   & Taylor County   & TX\\\\\n",
       "\t Akron, OH           & Akron           & OH\\\\\n",
       "\t Portage County, OH  & Portage County  & OH\\\\\n",
       "\\end{tabular}\n"
      ],
      "text/markdown": [
       "\n",
       "A tibble: 6 × 3\n",
       "\n",
       "| NAME &lt;chr&gt; | placename &lt;chr&gt; | stateabb &lt;chr&gt; |\n",
       "|---|---|---|\n",
       "| Abilene, TX         | Abilene         | TX |\n",
       "| Callahan County, TX | Callahan County | TX |\n",
       "| Jones County, TX    | Jones County    | TX |\n",
       "| Taylor County, TX   | Taylor County   | TX |\n",
       "| Akron, OH           | Akron           | OH |\n",
       "| Portage County, OH  | Portage County  | OH |\n",
       "\n"
      ],
      "text/plain": [
       "  NAME                placename       stateabb\n",
       "1 Abilene, TX         Abilene         TX      \n",
       "2 Callahan County, TX Callahan County TX      \n",
       "3 Jones County, TX    Jones County    TX      \n",
       "4 Taylor County, TX   Taylor County   TX      \n",
       "5 Akron, OH           Akron           OH      \n",
       "6 Portage County, OH  Portage County  OH      "
      ]
     },
     "metadata": {},
     "output_type": "display_data"
    }
   ],
   "source": [
    "cbsa %>%\n",
    "  select(NAME, placename, stateabb) %>%\n",
    "  head()"
   ]
  },
  {
   "cell_type": "code",
   "execution_count": 4,
   "id": "329faca8-a493-4b95-b86a-0e9fc4a3de9b",
   "metadata": {},
   "outputs": [
    {
     "data": {
      "text/html": [
       "<table class=\"dataframe\">\n",
       "<caption>A tibble: 6 × 90</caption>\n",
       "<thead>\n",
       "\t<tr><th scope=col>CBSA</th><th scope=col>MDIV</th><th scope=col>STCOU</th><th scope=col>NAME</th><th scope=col>placename</th><th scope=col>stateabb</th><th scope=col>LSAD</th><th scope=col>CENSUS2010POP</th><th scope=col>ESTIMATESBASE2010</th><th scope=col>POPESTIMATE2010</th><th scope=col>⋯</th><th scope=col>NETMIG2018</th><th scope=col>RESIDUAL2010</th><th scope=col>RESIDUAL2011</th><th scope=col>RESIDUAL2012</th><th scope=col>RESIDUAL2013</th><th scope=col>RESIDUAL2014</th><th scope=col>RESIDUAL2015</th><th scope=col>RESIDUAL2016</th><th scope=col>RESIDUAL2017</th><th scope=col>RESIDUAL2018</th></tr>\n",
       "\t<tr><th scope=col>&lt;dbl&gt;</th><th scope=col>&lt;dbl&gt;</th><th scope=col>&lt;chr&gt;</th><th scope=col>&lt;chr&gt;</th><th scope=col>&lt;chr&gt;</th><th scope=col>&lt;chr&gt;</th><th scope=col>&lt;chr&gt;</th><th scope=col>&lt;dbl&gt;</th><th scope=col>&lt;dbl&gt;</th><th scope=col>&lt;dbl&gt;</th><th scope=col>⋯</th><th scope=col>&lt;dbl&gt;</th><th scope=col>&lt;dbl&gt;</th><th scope=col>&lt;dbl&gt;</th><th scope=col>&lt;dbl&gt;</th><th scope=col>&lt;dbl&gt;</th><th scope=col>&lt;dbl&gt;</th><th scope=col>&lt;dbl&gt;</th><th scope=col>&lt;dbl&gt;</th><th scope=col>&lt;dbl&gt;</th><th scope=col>&lt;dbl&gt;</th></tr>\n",
       "</thead>\n",
       "<tbody>\n",
       "\t<tr><td>10180</td><td>NA</td><td>NA   </td><td>Abilene, TX        </td><td>Abilene        </td><td>TX</td><td>Metropolitan Statistical Area</td><td>165252</td><td>165246</td><td>165583</td><td>⋯</td><td>301</td><td> -5</td><td>-15</td><td> -8</td><td> 19</td><td> -19</td><td>-16</td><td> -4</td><td> -5</td><td> -8</td></tr>\n",
       "\t<tr><td>10180</td><td>NA</td><td>48059</td><td>Callahan County, TX</td><td>Callahan County</td><td>TX</td><td>County or equivalent         </td><td> 13544</td><td> 13546</td><td> 13513</td><td>⋯</td><td> 50</td><td> -1</td><td> -1</td><td> -2</td><td> -2</td><td>  -1</td><td> -1</td><td>  0</td><td>  0</td><td>  0</td></tr>\n",
       "\t<tr><td>10180</td><td>NA</td><td>48253</td><td>Jones County, TX   </td><td>Jones County   </td><td>TX</td><td>County or equivalent         </td><td> 20202</td><td> 20192</td><td> 20237</td><td>⋯</td><td>-25</td><td>  1</td><td>  3</td><td> 12</td><td>  3</td><td>   2</td><td>  3</td><td> -1</td><td>  0</td><td> -2</td></tr>\n",
       "\t<tr><td>10180</td><td>NA</td><td>48441</td><td>Taylor County, TX  </td><td>Taylor County  </td><td>TX</td><td>County or equivalent         </td><td>131506</td><td>131508</td><td>131833</td><td>⋯</td><td>276</td><td> -5</td><td>-17</td><td>-18</td><td> 18</td><td> -20</td><td>-18</td><td> -3</td><td> -5</td><td> -6</td></tr>\n",
       "\t<tr><td>10420</td><td>NA</td><td>NA   </td><td>Akron, OH          </td><td>Akron          </td><td>OH</td><td>Metropolitan Statistical Area</td><td>703200</td><td>703203</td><td>703035</td><td>⋯</td><td>522</td><td>-33</td><td>-43</td><td>-39</td><td>-73</td><td>-105</td><td>-52</td><td>-15</td><td>-26</td><td>-27</td></tr>\n",
       "\t<tr><td>10420</td><td>NA</td><td>39133</td><td>Portage County, OH </td><td>Portage County </td><td>OH</td><td>County or equivalent         </td><td>161419</td><td>161425</td><td>161389</td><td>⋯</td><td>371</td><td> -5</td><td>-18</td><td>  2</td><td>-10</td><td> -28</td><td>-10</td><td>  0</td><td> -1</td><td> -5</td></tr>\n",
       "</tbody>\n",
       "</table>\n"
      ],
      "text/latex": [
       "A tibble: 6 × 90\n",
       "\\begin{tabular}{lllllllllllllllllllll}\n",
       " CBSA & MDIV & STCOU & NAME & placename & stateabb & LSAD & CENSUS2010POP & ESTIMATESBASE2010 & POPESTIMATE2010 & ⋯ & NETMIG2018 & RESIDUAL2010 & RESIDUAL2011 & RESIDUAL2012 & RESIDUAL2013 & RESIDUAL2014 & RESIDUAL2015 & RESIDUAL2016 & RESIDUAL2017 & RESIDUAL2018\\\\\n",
       " <dbl> & <dbl> & <chr> & <chr> & <chr> & <chr> & <chr> & <dbl> & <dbl> & <dbl> & ⋯ & <dbl> & <dbl> & <dbl> & <dbl> & <dbl> & <dbl> & <dbl> & <dbl> & <dbl> & <dbl>\\\\\n",
       "\\hline\n",
       "\t 10180 & NA & NA    & Abilene, TX         & Abilene         & TX & Metropolitan Statistical Area & 165252 & 165246 & 165583 & ⋯ & 301 &  -5 & -15 &  -8 &  19 &  -19 & -16 &  -4 &  -5 &  -8\\\\\n",
       "\t 10180 & NA & 48059 & Callahan County, TX & Callahan County & TX & County or equivalent          &  13544 &  13546 &  13513 & ⋯ &  50 &  -1 &  -1 &  -2 &  -2 &   -1 &  -1 &   0 &   0 &   0\\\\\n",
       "\t 10180 & NA & 48253 & Jones County, TX    & Jones County    & TX & County or equivalent          &  20202 &  20192 &  20237 & ⋯ & -25 &   1 &   3 &  12 &   3 &    2 &   3 &  -1 &   0 &  -2\\\\\n",
       "\t 10180 & NA & 48441 & Taylor County, TX   & Taylor County   & TX & County or equivalent          & 131506 & 131508 & 131833 & ⋯ & 276 &  -5 & -17 & -18 &  18 &  -20 & -18 &  -3 &  -5 &  -6\\\\\n",
       "\t 10420 & NA & NA    & Akron, OH           & Akron           & OH & Metropolitan Statistical Area & 703200 & 703203 & 703035 & ⋯ & 522 & -33 & -43 & -39 & -73 & -105 & -52 & -15 & -26 & -27\\\\\n",
       "\t 10420 & NA & 39133 & Portage County, OH  & Portage County  & OH & County or equivalent          & 161419 & 161425 & 161389 & ⋯ & 371 &  -5 & -18 &   2 & -10 &  -28 & -10 &   0 &  -1 &  -5\\\\\n",
       "\\end{tabular}\n"
      ],
      "text/markdown": [
       "\n",
       "A tibble: 6 × 90\n",
       "\n",
       "| CBSA &lt;dbl&gt; | MDIV &lt;dbl&gt; | STCOU &lt;chr&gt; | NAME &lt;chr&gt; | placename &lt;chr&gt; | stateabb &lt;chr&gt; | LSAD &lt;chr&gt; | CENSUS2010POP &lt;dbl&gt; | ESTIMATESBASE2010 &lt;dbl&gt; | POPESTIMATE2010 &lt;dbl&gt; | ⋯ ⋯ | NETMIG2018 &lt;dbl&gt; | RESIDUAL2010 &lt;dbl&gt; | RESIDUAL2011 &lt;dbl&gt; | RESIDUAL2012 &lt;dbl&gt; | RESIDUAL2013 &lt;dbl&gt; | RESIDUAL2014 &lt;dbl&gt; | RESIDUAL2015 &lt;dbl&gt; | RESIDUAL2016 &lt;dbl&gt; | RESIDUAL2017 &lt;dbl&gt; | RESIDUAL2018 &lt;dbl&gt; |\n",
       "|---|---|---|---|---|---|---|---|---|---|---|---|---|---|---|---|---|---|---|---|---|\n",
       "| 10180 | NA | NA    | Abilene, TX         | Abilene         | TX | Metropolitan Statistical Area | 165252 | 165246 | 165583 | ⋯ | 301 |  -5 | -15 |  -8 |  19 |  -19 | -16 |  -4 |  -5 |  -8 |\n",
       "| 10180 | NA | 48059 | Callahan County, TX | Callahan County | TX | County or equivalent          |  13544 |  13546 |  13513 | ⋯ |  50 |  -1 |  -1 |  -2 |  -2 |   -1 |  -1 |   0 |   0 |   0 |\n",
       "| 10180 | NA | 48253 | Jones County, TX    | Jones County    | TX | County or equivalent          |  20202 |  20192 |  20237 | ⋯ | -25 |   1 |   3 |  12 |   3 |    2 |   3 |  -1 |   0 |  -2 |\n",
       "| 10180 | NA | 48441 | Taylor County, TX   | Taylor County   | TX | County or equivalent          | 131506 | 131508 | 131833 | ⋯ | 276 |  -5 | -17 | -18 |  18 |  -20 | -18 |  -3 |  -5 |  -6 |\n",
       "| 10420 | NA | NA    | Akron, OH           | Akron           | OH | Metropolitan Statistical Area | 703200 | 703203 | 703035 | ⋯ | 522 | -33 | -43 | -39 | -73 | -105 | -52 | -15 | -26 | -27 |\n",
       "| 10420 | NA | 39133 | Portage County, OH  | Portage County  | OH | County or equivalent          | 161419 | 161425 | 161389 | ⋯ | 371 |  -5 | -18 |   2 | -10 |  -28 | -10 |   0 |  -1 |  -5 |\n",
       "\n"
      ],
      "text/plain": [
       "  CBSA  MDIV STCOU NAME                placename       stateabb\n",
       "1 10180 NA   NA    Abilene, TX         Abilene         TX      \n",
       "2 10180 NA   48059 Callahan County, TX Callahan County TX      \n",
       "3 10180 NA   48253 Jones County, TX    Jones County    TX      \n",
       "4 10180 NA   48441 Taylor County, TX   Taylor County   TX      \n",
       "5 10420 NA   NA    Akron, OH           Akron           OH      \n",
       "6 10420 NA   39133 Portage County, OH  Portage County  OH      \n",
       "  LSAD                          CENSUS2010POP ESTIMATESBASE2010 POPESTIMATE2010\n",
       "1 Metropolitan Statistical Area 165252        165246            165583         \n",
       "2 County or equivalent           13544         13546             13513         \n",
       "3 County or equivalent           20202         20192             20237         \n",
       "4 County or equivalent          131506        131508            131833         \n",
       "5 Metropolitan Statistical Area 703200        703203            703035         \n",
       "6 County or equivalent          161419        161425            161389         \n",
       "  ⋯ NETMIG2018 RESIDUAL2010 RESIDUAL2011 RESIDUAL2012 RESIDUAL2013 RESIDUAL2014\n",
       "1 ⋯ 301         -5          -15           -8           19           -19        \n",
       "2 ⋯  50         -1           -1           -2           -2            -1        \n",
       "3 ⋯ -25          1            3           12            3             2        \n",
       "4 ⋯ 276         -5          -17          -18           18           -20        \n",
       "5 ⋯ 522        -33          -43          -39          -73          -105        \n",
       "6 ⋯ 371         -5          -18            2          -10           -28        \n",
       "  RESIDUAL2015 RESIDUAL2016 RESIDUAL2017 RESIDUAL2018\n",
       "1 -16           -4           -5           -8         \n",
       "2  -1            0            0            0         \n",
       "3   3           -1            0           -2         \n",
       "4 -18           -3           -5           -6         \n",
       "5 -52          -15          -26          -27         \n",
       "6 -10            0           -1           -5         "
      ]
     },
     "metadata": {},
     "output_type": "display_data"
    }
   ],
   "source": [
    "cbsa %>%\n",
    "    head()"
   ]
  },
  {
   "cell_type": "code",
   "execution_count": 5,
   "id": "d1c26807",
   "metadata": {
    "lines_to_next_cell": 2,
    "name": "tidy03"
   },
   "outputs": [
    {
     "data": {
      "text/html": [
       "<table class=\"dataframe\">\n",
       "<caption>A tibble: 6 × 3</caption>\n",
       "<thead>\n",
       "\t<tr><th scope=col>STCOU</th><th scope=col>stfips</th><th scope=col>coufips</th></tr>\n",
       "\t<tr><th scope=col>&lt;chr&gt;</th><th scope=col>&lt;chr&gt;</th><th scope=col>&lt;chr&gt;</th></tr>\n",
       "</thead>\n",
       "<tbody>\n",
       "\t<tr><td>NA   </td><td>NA</td><td>NA </td></tr>\n",
       "\t<tr><td>48059</td><td>48</td><td>059</td></tr>\n",
       "\t<tr><td>48253</td><td>48</td><td>253</td></tr>\n",
       "\t<tr><td>48441</td><td>48</td><td>441</td></tr>\n",
       "\t<tr><td>NA   </td><td>NA</td><td>NA </td></tr>\n",
       "\t<tr><td>39133</td><td>39</td><td>133</td></tr>\n",
       "</tbody>\n",
       "</table>\n"
      ],
      "text/latex": [
       "A tibble: 6 × 3\n",
       "\\begin{tabular}{lll}\n",
       " STCOU & stfips & coufips\\\\\n",
       " <chr> & <chr> & <chr>\\\\\n",
       "\\hline\n",
       "\t NA    & NA & NA \\\\\n",
       "\t 48059 & 48 & 059\\\\\n",
       "\t 48253 & 48 & 253\\\\\n",
       "\t 48441 & 48 & 441\\\\\n",
       "\t NA    & NA & NA \\\\\n",
       "\t 39133 & 39 & 133\\\\\n",
       "\\end{tabular}\n"
      ],
      "text/markdown": [
       "\n",
       "A tibble: 6 × 3\n",
       "\n",
       "| STCOU &lt;chr&gt; | stfips &lt;chr&gt; | coufips &lt;chr&gt; |\n",
       "|---|---|---|\n",
       "| NA    | NA | NA  |\n",
       "| 48059 | 48 | 059 |\n",
       "| 48253 | 48 | 253 |\n",
       "| 48441 | 48 | 441 |\n",
       "| NA    | NA | NA  |\n",
       "| 39133 | 39 | 133 |\n",
       "\n"
      ],
      "text/plain": [
       "  STCOU stfips coufips\n",
       "1 NA    NA     NA     \n",
       "2 48059 48     059    \n",
       "3 48253 48     253    \n",
       "4 48441 48     441    \n",
       "5 NA    NA     NA     \n",
       "6 39133 39     133    "
      ]
     },
     "metadata": {},
     "output_type": "display_data"
    }
   ],
   "source": [
    "cbsa %>%\n",
    "  separate(\n",
    "    col = STCOU, \n",
    "    into = c(\"stfips\", \"coufips\"),\n",
    "    sep = 2,\n",
    "    remove = FALSE\n",
    "  ) -> cbsa\n",
    "\n",
    "cbsa %>%\n",
    "  select(STCOU, stfips, coufips) %>%\n",
    "  head()"
   ]
  },
  {
   "cell_type": "code",
   "execution_count": 6,
   "id": "4a6b0f91",
   "metadata": {
    "name": "tidy04"
   },
   "outputs": [
    {
     "name": "stderr",
     "output_type": "stream",
     "text": [
      "\u001b[1mRows: \u001b[22m\u001b[34m3193\u001b[39m \u001b[1mColumns: \u001b[22m\u001b[34m148\u001b[39m\n",
      "\n"
     ]
    },
    {
     "name": "stderr",
     "output_type": "stream",
     "text": [
      "\u001b[36m──\u001b[39m \u001b[1mColumn specification\u001b[22m \u001b[36m───────────────────────────────────────────────────────────────────────────────────────────────────────────────────────────────────────────────\u001b[39m\n",
      "\u001b[1mDelimiter:\u001b[22m \",\"\n",
      "\u001b[31mchr\u001b[39m   (5): SUMLEV, STATE, COUNTY, STNAME, CTYNAME\n",
      "\u001b[32mdbl\u001b[39m (143): REGION, DIVISION, CENSUS2010POP, ESTIMATESBASE2010, POPESTIMATE20...\n",
      "\n"
     ]
    },
    {
     "name": "stderr",
     "output_type": "stream",
     "text": [
      "\n",
      "\u001b[36mℹ\u001b[39m Use \u001b[30m\u001b[47m\u001b[30m\u001b[47m`spec()`\u001b[47m\u001b[30m\u001b[49m\u001b[39m to retrieve the full column specification for this data.\n",
      "\u001b[36mℹ\u001b[39m Specify the column types or set \u001b[30m\u001b[47m\u001b[30m\u001b[47m`show_col_types = FALSE`\u001b[47m\u001b[30m\u001b[49m\u001b[39m to quiet this message.\n",
      "\n"
     ]
    }
   ],
   "source": [
    "read_csv(\n",
    "  \"https://www2.census.gov/programs-surveys/popest/datasets/2010-2018/counties/totals/co-est2018-alldata.csv\"\n",
    "  ) -> coudf"
   ]
  },
  {
   "cell_type": "code",
   "execution_count": 7,
   "id": "c9983dfb",
   "metadata": {
    "name": "tidy05"
   },
   "outputs": [
    {
     "data": {
      "text/html": [
       "<table class=\"dataframe\">\n",
       "<caption>A tibble: 6 × 2</caption>\n",
       "<thead>\n",
       "\t<tr><th scope=col>STNAME</th><th scope=col>CTYNAME</th></tr>\n",
       "\t<tr><th scope=col>&lt;chr&gt;</th><th scope=col>&lt;chr&gt;</th></tr>\n",
       "</thead>\n",
       "<tbody>\n",
       "\t<tr><td>Alabama</td><td>Autauga County</td></tr>\n",
       "\t<tr><td>Alabama</td><td>Baldwin County</td></tr>\n",
       "\t<tr><td>Alabama</td><td>Barbour County</td></tr>\n",
       "\t<tr><td>Alabama</td><td>Bibb County   </td></tr>\n",
       "\t<tr><td>Alabama</td><td>Blount County </td></tr>\n",
       "\t<tr><td>Alabama</td><td>Bullock County</td></tr>\n",
       "</tbody>\n",
       "</table>\n"
      ],
      "text/latex": [
       "A tibble: 6 × 2\n",
       "\\begin{tabular}{ll}\n",
       " STNAME & CTYNAME\\\\\n",
       " <chr> & <chr>\\\\\n",
       "\\hline\n",
       "\t Alabama & Autauga County\\\\\n",
       "\t Alabama & Baldwin County\\\\\n",
       "\t Alabama & Barbour County\\\\\n",
       "\t Alabama & Bibb County   \\\\\n",
       "\t Alabama & Blount County \\\\\n",
       "\t Alabama & Bullock County\\\\\n",
       "\\end{tabular}\n"
      ],
      "text/markdown": [
       "\n",
       "A tibble: 6 × 2\n",
       "\n",
       "| STNAME &lt;chr&gt; | CTYNAME &lt;chr&gt; |\n",
       "|---|---|\n",
       "| Alabama | Autauga County |\n",
       "| Alabama | Baldwin County |\n",
       "| Alabama | Barbour County |\n",
       "| Alabama | Bibb County    |\n",
       "| Alabama | Blount County  |\n",
       "| Alabama | Bullock County |\n",
       "\n"
      ],
      "text/plain": [
       "  STNAME  CTYNAME       \n",
       "1 Alabama Autauga County\n",
       "2 Alabama Baldwin County\n",
       "3 Alabama Barbour County\n",
       "4 Alabama Bibb County   \n",
       "5 Alabama Blount County \n",
       "6 Alabama Bullock County"
      ]
     },
     "metadata": {},
     "output_type": "display_data"
    }
   ],
   "source": [
    "coudf %>%\n",
    "  filter(COUNTY != \"000\") -> coudf2\n",
    "\n",
    "coudf2 %>%\n",
    "  select(STNAME, CTYNAME) %>%\n",
    "  head()"
   ]
  },
  {
   "cell_type": "code",
   "execution_count": 8,
   "id": "5151ff6e",
   "metadata": {
    "name": "tidy06"
   },
   "outputs": [
    {
     "data": {
      "text/html": [
       "<table class=\"dataframe\">\n",
       "<caption>A tibble: 6 × 3</caption>\n",
       "<thead>\n",
       "\t<tr><th scope=col>CTYNAME</th><th scope=col>STNAME</th><th scope=col>countystate</th></tr>\n",
       "\t<tr><th scope=col>&lt;chr&gt;</th><th scope=col>&lt;chr&gt;</th><th scope=col>&lt;chr&gt;</th></tr>\n",
       "</thead>\n",
       "<tbody>\n",
       "\t<tr><td>Autauga County</td><td>Alabama</td><td>Autauga County, Alabama</td></tr>\n",
       "\t<tr><td>Baldwin County</td><td>Alabama</td><td>Baldwin County, Alabama</td></tr>\n",
       "\t<tr><td>Barbour County</td><td>Alabama</td><td>Barbour County, Alabama</td></tr>\n",
       "\t<tr><td>Bibb County   </td><td>Alabama</td><td>Bibb County, Alabama   </td></tr>\n",
       "\t<tr><td>Blount County </td><td>Alabama</td><td>Blount County, Alabama </td></tr>\n",
       "\t<tr><td>Bullock County</td><td>Alabama</td><td>Bullock County, Alabama</td></tr>\n",
       "</tbody>\n",
       "</table>\n"
      ],
      "text/latex": [
       "A tibble: 6 × 3\n",
       "\\begin{tabular}{lll}\n",
       " CTYNAME & STNAME & countystate\\\\\n",
       " <chr> & <chr> & <chr>\\\\\n",
       "\\hline\n",
       "\t Autauga County & Alabama & Autauga County, Alabama\\\\\n",
       "\t Baldwin County & Alabama & Baldwin County, Alabama\\\\\n",
       "\t Barbour County & Alabama & Barbour County, Alabama\\\\\n",
       "\t Bibb County    & Alabama & Bibb County, Alabama   \\\\\n",
       "\t Blount County  & Alabama & Blount County, Alabama \\\\\n",
       "\t Bullock County & Alabama & Bullock County, Alabama\\\\\n",
       "\\end{tabular}\n"
      ],
      "text/markdown": [
       "\n",
       "A tibble: 6 × 3\n",
       "\n",
       "| CTYNAME &lt;chr&gt; | STNAME &lt;chr&gt; | countystate &lt;chr&gt; |\n",
       "|---|---|---|\n",
       "| Autauga County | Alabama | Autauga County, Alabama |\n",
       "| Baldwin County | Alabama | Baldwin County, Alabama |\n",
       "| Barbour County | Alabama | Barbour County, Alabama |\n",
       "| Bibb County    | Alabama | Bibb County, Alabama    |\n",
       "| Blount County  | Alabama | Blount County, Alabama  |\n",
       "| Bullock County | Alabama | Bullock County, Alabama |\n",
       "\n"
      ],
      "text/plain": [
       "  CTYNAME        STNAME  countystate            \n",
       "1 Autauga County Alabama Autauga County, Alabama\n",
       "2 Baldwin County Alabama Baldwin County, Alabama\n",
       "3 Barbour County Alabama Barbour County, Alabama\n",
       "4 Bibb County    Alabama Bibb County, Alabama   \n",
       "5 Blount County  Alabama Blount County, Alabama \n",
       "6 Bullock County Alabama Bullock County, Alabama"
      ]
     },
     "metadata": {},
     "output_type": "display_data"
    }
   ],
   "source": [
    "coudf2 %>%\n",
    "  unite(\n",
    "    col = \"countystate\",\n",
    "    c(\"CTYNAME\", \"STNAME\"),\n",
    "    sep = \", \",\n",
    "    remove = FALSE\n",
    "  ) -> coudf2\n",
    "\n",
    "coudf2 %>%\n",
    "  select(CTYNAME, STNAME, countystate) %>%\n",
    "  head()"
   ]
  },
  {
   "cell_type": "code",
   "execution_count": 9,
   "id": "44f302f8",
   "metadata": {
    "name": "tidy07"
   },
   "outputs": [
    {
     "name": "stderr",
     "output_type": "stream",
     "text": [
      "\u001b[1mRows: \u001b[22m\u001b[34m2789\u001b[39m \u001b[1mColumns: \u001b[22m\u001b[34m88\u001b[39m\n",
      "\n"
     ]
    },
    {
     "name": "stderr",
     "output_type": "stream",
     "text": [
      "\u001b[36m──\u001b[39m \u001b[1mColumn specification\u001b[22m \u001b[36m───────────────────────────────────────────────────────────────────────────────────────────────────────────────────────────────────────────────\u001b[39m\n",
      "\u001b[1mDelimiter:\u001b[22m \",\"\n",
      "\u001b[31mchr\u001b[39m  (3): STCOU, NAME, LSAD\n",
      "\u001b[32mdbl\u001b[39m (85): CBSA, MDIV, CENSUS2010POP, ESTIMATESBASE2010, POPESTIMATE2010, POP...\n",
      "\n"
     ]
    },
    {
     "name": "stderr",
     "output_type": "stream",
     "text": [
      "\n",
      "\u001b[36mℹ\u001b[39m Use \u001b[30m\u001b[47m\u001b[30m\u001b[47m`spec()`\u001b[47m\u001b[30m\u001b[49m\u001b[39m to retrieve the full column specification for this data.\n",
      "\u001b[36mℹ\u001b[39m Specify the column types or set \u001b[30m\u001b[47m\u001b[30m\u001b[47m`show_col_types = FALSE`\u001b[47m\u001b[30m\u001b[49m\u001b[39m to quiet this message.\n",
      "\n"
     ]
    },
    {
     "data": {
      "text/html": [
       "<table class=\"dataframe\">\n",
       "<caption>A tibble: 6 × 10</caption>\n",
       "<thead>\n",
       "\t<tr><th scope=col>NAME</th><th scope=col>POPESTIMATE2010</th><th scope=col>POPESTIMATE2011</th><th scope=col>POPESTIMATE2012</th><th scope=col>POPESTIMATE2013</th><th scope=col>POPESTIMATE2014</th><th scope=col>POPESTIMATE2015</th><th scope=col>POPESTIMATE2016</th><th scope=col>POPESTIMATE2017</th><th scope=col>POPESTIMATE2018</th></tr>\n",
       "\t<tr><th scope=col>&lt;chr&gt;</th><th scope=col>&lt;dbl&gt;</th><th scope=col>&lt;dbl&gt;</th><th scope=col>&lt;dbl&gt;</th><th scope=col>&lt;dbl&gt;</th><th scope=col>&lt;dbl&gt;</th><th scope=col>&lt;dbl&gt;</th><th scope=col>&lt;dbl&gt;</th><th scope=col>&lt;dbl&gt;</th><th scope=col>&lt;dbl&gt;</th></tr>\n",
       "</thead>\n",
       "<tbody>\n",
       "\t<tr><td>Abilene, TX        </td><td>165583</td><td>166616</td><td>167447</td><td>167472</td><td>168355</td><td>169704</td><td>170018</td><td>170516</td><td>171451</td></tr>\n",
       "\t<tr><td>Callahan County, TX</td><td> 13513</td><td> 13511</td><td> 13488</td><td> 13501</td><td> 13506</td><td> 13591</td><td> 13789</td><td> 13968</td><td> 13994</td></tr>\n",
       "\t<tr><td>Jones County, TX   </td><td> 20237</td><td> 20266</td><td> 19870</td><td> 20034</td><td> 19846</td><td> 19972</td><td> 19969</td><td> 19852</td><td> 19817</td></tr>\n",
       "\t<tr><td>Taylor County, TX  </td><td>131833</td><td>132839</td><td>134089</td><td>133937</td><td>135003</td><td>136141</td><td>136260</td><td>136696</td><td>137640</td></tr>\n",
       "\t<tr><td>Akron, OH          </td><td>703035</td><td>703123</td><td>702080</td><td>703625</td><td>704921</td><td>704448</td><td>703690</td><td>704367</td><td>704845</td></tr>\n",
       "\t<tr><td>Portage County, OH </td><td>161389</td><td>161857</td><td>161375</td><td>161691</td><td>162459</td><td>162615</td><td>162595</td><td>162625</td><td>162927</td></tr>\n",
       "</tbody>\n",
       "</table>\n"
      ],
      "text/latex": [
       "A tibble: 6 × 10\n",
       "\\begin{tabular}{llllllllll}\n",
       " NAME & POPESTIMATE2010 & POPESTIMATE2011 & POPESTIMATE2012 & POPESTIMATE2013 & POPESTIMATE2014 & POPESTIMATE2015 & POPESTIMATE2016 & POPESTIMATE2017 & POPESTIMATE2018\\\\\n",
       " <chr> & <dbl> & <dbl> & <dbl> & <dbl> & <dbl> & <dbl> & <dbl> & <dbl> & <dbl>\\\\\n",
       "\\hline\n",
       "\t Abilene, TX         & 165583 & 166616 & 167447 & 167472 & 168355 & 169704 & 170018 & 170516 & 171451\\\\\n",
       "\t Callahan County, TX &  13513 &  13511 &  13488 &  13501 &  13506 &  13591 &  13789 &  13968 &  13994\\\\\n",
       "\t Jones County, TX    &  20237 &  20266 &  19870 &  20034 &  19846 &  19972 &  19969 &  19852 &  19817\\\\\n",
       "\t Taylor County, TX   & 131833 & 132839 & 134089 & 133937 & 135003 & 136141 & 136260 & 136696 & 137640\\\\\n",
       "\t Akron, OH           & 703035 & 703123 & 702080 & 703625 & 704921 & 704448 & 703690 & 704367 & 704845\\\\\n",
       "\t Portage County, OH  & 161389 & 161857 & 161375 & 161691 & 162459 & 162615 & 162595 & 162625 & 162927\\\\\n",
       "\\end{tabular}\n"
      ],
      "text/markdown": [
       "\n",
       "A tibble: 6 × 10\n",
       "\n",
       "| NAME &lt;chr&gt; | POPESTIMATE2010 &lt;dbl&gt; | POPESTIMATE2011 &lt;dbl&gt; | POPESTIMATE2012 &lt;dbl&gt; | POPESTIMATE2013 &lt;dbl&gt; | POPESTIMATE2014 &lt;dbl&gt; | POPESTIMATE2015 &lt;dbl&gt; | POPESTIMATE2016 &lt;dbl&gt; | POPESTIMATE2017 &lt;dbl&gt; | POPESTIMATE2018 &lt;dbl&gt; |\n",
       "|---|---|---|---|---|---|---|---|---|---|\n",
       "| Abilene, TX         | 165583 | 166616 | 167447 | 167472 | 168355 | 169704 | 170018 | 170516 | 171451 |\n",
       "| Callahan County, TX |  13513 |  13511 |  13488 |  13501 |  13506 |  13591 |  13789 |  13968 |  13994 |\n",
       "| Jones County, TX    |  20237 |  20266 |  19870 |  20034 |  19846 |  19972 |  19969 |  19852 |  19817 |\n",
       "| Taylor County, TX   | 131833 | 132839 | 134089 | 133937 | 135003 | 136141 | 136260 | 136696 | 137640 |\n",
       "| Akron, OH           | 703035 | 703123 | 702080 | 703625 | 704921 | 704448 | 703690 | 704367 | 704845 |\n",
       "| Portage County, OH  | 161389 | 161857 | 161375 | 161691 | 162459 | 162615 | 162595 | 162625 | 162927 |\n",
       "\n"
      ],
      "text/plain": [
       "  NAME                POPESTIMATE2010 POPESTIMATE2011 POPESTIMATE2012\n",
       "1 Abilene, TX         165583          166616          167447         \n",
       "2 Callahan County, TX  13513           13511           13488         \n",
       "3 Jones County, TX     20237           20266           19870         \n",
       "4 Taylor County, TX   131833          132839          134089         \n",
       "5 Akron, OH           703035          703123          702080         \n",
       "6 Portage County, OH  161389          161857          161375         \n",
       "  POPESTIMATE2013 POPESTIMATE2014 POPESTIMATE2015 POPESTIMATE2016\n",
       "1 167472          168355          169704          170018         \n",
       "2  13501           13506           13591           13789         \n",
       "3  20034           19846           19972           19969         \n",
       "4 133937          135003          136141          136260         \n",
       "5 703625          704921          704448          703690         \n",
       "6 161691          162459          162615          162595         \n",
       "  POPESTIMATE2017 POPESTIMATE2018\n",
       "1 170516          171451         \n",
       "2  13968           13994         \n",
       "3  19852           19817         \n",
       "4 136696          137640         \n",
       "5 704367          704845         \n",
       "6 162625          162927         "
      ]
     },
     "metadata": {},
     "output_type": "display_data"
    }
   ],
   "source": [
    "read_csv(\n",
    "  \"https://www2.census.gov/programs-surveys/popest/datasets/2010-2018/metro/totals/cbsa-est2018-alldata.csv\"\n",
    "  ) -> cbsa\n",
    "\n",
    "cbsa %>%\n",
    "  select(c(4, 8:16)) -> cbsa01\n",
    "\n",
    "cbsa01 %>%\n",
    "  head()"
   ]
  },
  {
   "cell_type": "code",
   "execution_count": 10,
   "id": "8ffdb426",
   "metadata": {
    "name": "tidy08"
   },
   "outputs": [
    {
     "data": {
      "text/html": [
       "<table class=\"dataframe\">\n",
       "<caption>A grouped_df: 6 × 3</caption>\n",
       "<thead>\n",
       "\t<tr><th scope=col>NAME</th><th scope=col>variable</th><th scope=col>POPULATION</th></tr>\n",
       "\t<tr><th scope=col>&lt;chr&gt;</th><th scope=col>&lt;chr&gt;</th><th scope=col>&lt;dbl&gt;</th></tr>\n",
       "</thead>\n",
       "<tbody>\n",
       "\t<tr><td>Abilene, TX</td><td>POPESTIMATE2010</td><td>165583</td></tr>\n",
       "\t<tr><td>Abilene, TX</td><td>POPESTIMATE2011</td><td>166616</td></tr>\n",
       "\t<tr><td>Abilene, TX</td><td>POPESTIMATE2012</td><td>167447</td></tr>\n",
       "\t<tr><td>Abilene, TX</td><td>POPESTIMATE2013</td><td>167472</td></tr>\n",
       "\t<tr><td>Abilene, TX</td><td>POPESTIMATE2014</td><td>168355</td></tr>\n",
       "\t<tr><td>Abilene, TX</td><td>POPESTIMATE2015</td><td>169704</td></tr>\n",
       "</tbody>\n",
       "</table>\n"
      ],
      "text/latex": [
       "A grouped\\_df: 6 × 3\n",
       "\\begin{tabular}{lll}\n",
       " NAME & variable & POPULATION\\\\\n",
       " <chr> & <chr> & <dbl>\\\\\n",
       "\\hline\n",
       "\t Abilene, TX & POPESTIMATE2010 & 165583\\\\\n",
       "\t Abilene, TX & POPESTIMATE2011 & 166616\\\\\n",
       "\t Abilene, TX & POPESTIMATE2012 & 167447\\\\\n",
       "\t Abilene, TX & POPESTIMATE2013 & 167472\\\\\n",
       "\t Abilene, TX & POPESTIMATE2014 & 168355\\\\\n",
       "\t Abilene, TX & POPESTIMATE2015 & 169704\\\\\n",
       "\\end{tabular}\n"
      ],
      "text/markdown": [
       "\n",
       "A grouped_df: 6 × 3\n",
       "\n",
       "| NAME &lt;chr&gt; | variable &lt;chr&gt; | POPULATION &lt;dbl&gt; |\n",
       "|---|---|---|\n",
       "| Abilene, TX | POPESTIMATE2010 | 165583 |\n",
       "| Abilene, TX | POPESTIMATE2011 | 166616 |\n",
       "| Abilene, TX | POPESTIMATE2012 | 167447 |\n",
       "| Abilene, TX | POPESTIMATE2013 | 167472 |\n",
       "| Abilene, TX | POPESTIMATE2014 | 168355 |\n",
       "| Abilene, TX | POPESTIMATE2015 | 169704 |\n",
       "\n"
      ],
      "text/plain": [
       "  NAME        variable        POPULATION\n",
       "1 Abilene, TX POPESTIMATE2010 165583    \n",
       "2 Abilene, TX POPESTIMATE2011 166616    \n",
       "3 Abilene, TX POPESTIMATE2012 167447    \n",
       "4 Abilene, TX POPESTIMATE2013 167472    \n",
       "5 Abilene, TX POPESTIMATE2014 168355    \n",
       "6 Abilene, TX POPESTIMATE2015 169704    "
      ]
     },
     "metadata": {},
     "output_type": "display_data"
    }
   ],
   "source": [
    "cbsa01 %>%\n",
    "  group_by(NAME) %>%\n",
    "  pivot_longer(\n",
    "    names_to = \"variable\",\n",
    "    values_to = \"POPULATION\",\n",
    "    cols = 2:10\n",
    "  ) -> cbsa01.long\n",
    "\n",
    "cbsa01.long %>%\n",
    "  head()"
   ]
  },
  {
   "cell_type": "code",
   "execution_count": 11,
   "id": "d1320507",
   "metadata": {
    "name": "tidy09"
   },
   "outputs": [
    {
     "data": {
      "text/html": [
       "<table class=\"dataframe\">\n",
       "<caption>A grouped_df: 6 × 3</caption>\n",
       "<thead>\n",
       "\t<tr><th scope=col>NAME</th><th scope=col>YEAR</th><th scope=col>POPULATION</th></tr>\n",
       "\t<tr><th scope=col>&lt;chr&gt;</th><th scope=col>&lt;dbl&gt;</th><th scope=col>&lt;dbl&gt;</th></tr>\n",
       "</thead>\n",
       "<tbody>\n",
       "\t<tr><td>Abilene, TX</td><td>2010</td><td>165583</td></tr>\n",
       "\t<tr><td>Abilene, TX</td><td>2011</td><td>166616</td></tr>\n",
       "\t<tr><td>Abilene, TX</td><td>2012</td><td>167447</td></tr>\n",
       "\t<tr><td>Abilene, TX</td><td>2013</td><td>167472</td></tr>\n",
       "\t<tr><td>Abilene, TX</td><td>2014</td><td>168355</td></tr>\n",
       "\t<tr><td>Abilene, TX</td><td>2015</td><td>169704</td></tr>\n",
       "</tbody>\n",
       "</table>\n"
      ],
      "text/latex": [
       "A grouped\\_df: 6 × 3\n",
       "\\begin{tabular}{lll}\n",
       " NAME & YEAR & POPULATION\\\\\n",
       " <chr> & <dbl> & <dbl>\\\\\n",
       "\\hline\n",
       "\t Abilene, TX & 2010 & 165583\\\\\n",
       "\t Abilene, TX & 2011 & 166616\\\\\n",
       "\t Abilene, TX & 2012 & 167447\\\\\n",
       "\t Abilene, TX & 2013 & 167472\\\\\n",
       "\t Abilene, TX & 2014 & 168355\\\\\n",
       "\t Abilene, TX & 2015 & 169704\\\\\n",
       "\\end{tabular}\n"
      ],
      "text/markdown": [
       "\n",
       "A grouped_df: 6 × 3\n",
       "\n",
       "| NAME &lt;chr&gt; | YEAR &lt;dbl&gt; | POPULATION &lt;dbl&gt; |\n",
       "|---|---|---|\n",
       "| Abilene, TX | 2010 | 165583 |\n",
       "| Abilene, TX | 2011 | 166616 |\n",
       "| Abilene, TX | 2012 | 167447 |\n",
       "| Abilene, TX | 2013 | 167472 |\n",
       "| Abilene, TX | 2014 | 168355 |\n",
       "| Abilene, TX | 2015 | 169704 |\n",
       "\n"
      ],
      "text/plain": [
       "  NAME        YEAR POPULATION\n",
       "1 Abilene, TX 2010 165583    \n",
       "2 Abilene, TX 2011 166616    \n",
       "3 Abilene, TX 2012 167447    \n",
       "4 Abilene, TX 2013 167472    \n",
       "5 Abilene, TX 2014 168355    \n",
       "6 Abilene, TX 2015 169704    "
      ]
     },
     "metadata": {},
     "output_type": "display_data"
    }
   ],
   "source": [
    "cbsa01.long %>%\n",
    "  separate(\n",
    "    col = variable,\n",
    "    into = c(\"todiscard\", \"toyear\"),\n",
    "    sep = 11,\n",
    "    remove = TRUE) -> cbsa01.long2\n",
    "\n",
    "cbsa01.long2 %>%\n",
    "  mutate(YEAR = as.numeric(toyear)) %>%\n",
    "    select(c(NAME, YEAR, POPULATION)) -> cbsa01.long3\n",
    "\n",
    "cbsa01.long3 %>%\n",
    "  head()"
   ]
  },
  {
   "cell_type": "code",
   "execution_count": 12,
   "id": "477d6363-53f8-4ff4-a64a-f531c5f10702",
   "metadata": {},
   "outputs": [
    {
     "data": {
      "text/html": [
       "<table class=\"dataframe\">\n",
       "<caption>A grouped_df: 6 × 3</caption>\n",
       "<thead>\n",
       "\t<tr><th scope=col>NAME</th><th scope=col>POPULATION</th><th scope=col>Year</th></tr>\n",
       "\t<tr><th scope=col>&lt;chr&gt;</th><th scope=col>&lt;dbl&gt;</th><th scope=col>&lt;chr&gt;</th></tr>\n",
       "</thead>\n",
       "<tbody>\n",
       "\t<tr><td>Abilene, TX</td><td>165583</td><td>2010</td></tr>\n",
       "\t<tr><td>Abilene, TX</td><td>166616</td><td>2011</td></tr>\n",
       "\t<tr><td>Abilene, TX</td><td>167447</td><td>2012</td></tr>\n",
       "\t<tr><td>Abilene, TX</td><td>167472</td><td>2013</td></tr>\n",
       "\t<tr><td>Abilene, TX</td><td>168355</td><td>2014</td></tr>\n",
       "\t<tr><td>Abilene, TX</td><td>169704</td><td>2015</td></tr>\n",
       "</tbody>\n",
       "</table>\n"
      ],
      "text/latex": [
       "A grouped\\_df: 6 × 3\n",
       "\\begin{tabular}{lll}\n",
       " NAME & POPULATION & Year\\\\\n",
       " <chr> & <dbl> & <chr>\\\\\n",
       "\\hline\n",
       "\t Abilene, TX & 165583 & 2010\\\\\n",
       "\t Abilene, TX & 166616 & 2011\\\\\n",
       "\t Abilene, TX & 167447 & 2012\\\\\n",
       "\t Abilene, TX & 167472 & 2013\\\\\n",
       "\t Abilene, TX & 168355 & 2014\\\\\n",
       "\t Abilene, TX & 169704 & 2015\\\\\n",
       "\\end{tabular}\n"
      ],
      "text/markdown": [
       "\n",
       "A grouped_df: 6 × 3\n",
       "\n",
       "| NAME &lt;chr&gt; | POPULATION &lt;dbl&gt; | Year &lt;chr&gt; |\n",
       "|---|---|---|\n",
       "| Abilene, TX | 165583 | 2010 |\n",
       "| Abilene, TX | 166616 | 2011 |\n",
       "| Abilene, TX | 167447 | 2012 |\n",
       "| Abilene, TX | 167472 | 2013 |\n",
       "| Abilene, TX | 168355 | 2014 |\n",
       "| Abilene, TX | 169704 | 2015 |\n",
       "\n"
      ],
      "text/plain": [
       "  NAME        POPULATION Year\n",
       "1 Abilene, TX 165583     2010\n",
       "2 Abilene, TX 166616     2011\n",
       "3 Abilene, TX 167447     2012\n",
       "4 Abilene, TX 167472     2013\n",
       "5 Abilene, TX 168355     2014\n",
       "6 Abilene, TX 169704     2015"
      ]
     },
     "metadata": {},
     "output_type": "display_data"
    }
   ],
   "source": [
    "cbsa01.long %>%\n",
    "    mutate(\n",
    "    Year = stringr::str_remove_all(variable, \"POPESTIMATE\")\n",
    "    ) -> cbsa.long4\n",
    "\n",
    "cbsa.long4 %>%\n",
    "    select(-variable) %>%\n",
    "    head()"
   ]
  },
  {
   "cell_type": "code",
   "execution_count": 13,
   "id": "7f4e4f57",
   "metadata": {
    "name": "tidy10"
   },
   "outputs": [
    {
     "data": {
      "text/html": [
       "<table class=\"dataframe\">\n",
       "<caption>A tibble: 6 × 5</caption>\n",
       "<thead>\n",
       "\t<tr><th scope=col>GEOID</th><th scope=col>NAME</th><th scope=col>variable</th><th scope=col>estimate</th><th scope=col>moe</th></tr>\n",
       "\t<tr><th scope=col>&lt;chr&gt;</th><th scope=col>&lt;chr&gt;</th><th scope=col>&lt;chr&gt;</th><th scope=col>&lt;dbl&gt;</th><th scope=col>&lt;dbl&gt;</th></tr>\n",
       "</thead>\n",
       "<tbody>\n",
       "\t<tr><td>01</td><td>Alabama</td><td>income</td><td>24476</td><td>136</td></tr>\n",
       "\t<tr><td>01</td><td>Alabama</td><td>rent  </td><td>  747</td><td>  3</td></tr>\n",
       "\t<tr><td>02</td><td>Alaska </td><td>income</td><td>32940</td><td>508</td></tr>\n",
       "\t<tr><td>02</td><td>Alaska </td><td>rent  </td><td> 1200</td><td> 13</td></tr>\n",
       "\t<tr><td>04</td><td>Arizona</td><td>income</td><td>27517</td><td>148</td></tr>\n",
       "\t<tr><td>04</td><td>Arizona</td><td>rent  </td><td>  972</td><td>  4</td></tr>\n",
       "</tbody>\n",
       "</table>\n"
      ],
      "text/latex": [
       "A tibble: 6 × 5\n",
       "\\begin{tabular}{lllll}\n",
       " GEOID & NAME & variable & estimate & moe\\\\\n",
       " <chr> & <chr> & <chr> & <dbl> & <dbl>\\\\\n",
       "\\hline\n",
       "\t 01 & Alabama & income & 24476 & 136\\\\\n",
       "\t 01 & Alabama & rent   &   747 &   3\\\\\n",
       "\t 02 & Alaska  & income & 32940 & 508\\\\\n",
       "\t 02 & Alaska  & rent   &  1200 &  13\\\\\n",
       "\t 04 & Arizona & income & 27517 & 148\\\\\n",
       "\t 04 & Arizona & rent   &   972 &   4\\\\\n",
       "\\end{tabular}\n"
      ],
      "text/markdown": [
       "\n",
       "A tibble: 6 × 5\n",
       "\n",
       "| GEOID &lt;chr&gt; | NAME &lt;chr&gt; | variable &lt;chr&gt; | estimate &lt;dbl&gt; | moe &lt;dbl&gt; |\n",
       "|---|---|---|---|---|\n",
       "| 01 | Alabama | income | 24476 | 136 |\n",
       "| 01 | Alabama | rent   |   747 |   3 |\n",
       "| 02 | Alaska  | income | 32940 | 508 |\n",
       "| 02 | Alaska  | rent   |  1200 |  13 |\n",
       "| 04 | Arizona | income | 27517 | 148 |\n",
       "| 04 | Arizona | rent   |   972 |   4 |\n",
       "\n"
      ],
      "text/plain": [
       "  GEOID NAME    variable estimate moe\n",
       "1 01    Alabama income   24476    136\n",
       "2 01    Alabama rent       747      3\n",
       "3 02    Alaska  income   32940    508\n",
       "4 02    Alaska  rent      1200     13\n",
       "5 04    Arizona income   27517    148\n",
       "6 04    Arizona rent       972      4"
      ]
     },
     "metadata": {},
     "output_type": "display_data"
    }
   ],
   "source": [
    "us_rent_income %>%\n",
    "  head()"
   ]
  },
  {
   "cell_type": "code",
   "execution_count": 14,
   "id": "430292a7",
   "metadata": {
    "name": "tidy11"
   },
   "outputs": [
    {
     "data": {
      "text/html": [
       "<table class=\"dataframe\">\n",
       "<caption>A grouped_df: 6 × 6</caption>\n",
       "<thead>\n",
       "\t<tr><th scope=col>GEOID</th><th scope=col>NAME</th><th scope=col>estimate_income</th><th scope=col>estimate_rent</th><th scope=col>moe_income</th><th scope=col>moe_rent</th></tr>\n",
       "\t<tr><th scope=col>&lt;chr&gt;</th><th scope=col>&lt;chr&gt;</th><th scope=col>&lt;dbl&gt;</th><th scope=col>&lt;dbl&gt;</th><th scope=col>&lt;dbl&gt;</th><th scope=col>&lt;dbl&gt;</th></tr>\n",
       "</thead>\n",
       "<tbody>\n",
       "\t<tr><td>01</td><td>Alabama   </td><td>24476</td><td> 747</td><td>136</td><td> 3</td></tr>\n",
       "\t<tr><td>02</td><td>Alaska    </td><td>32940</td><td>1200</td><td>508</td><td>13</td></tr>\n",
       "\t<tr><td>04</td><td>Arizona   </td><td>27517</td><td> 972</td><td>148</td><td> 4</td></tr>\n",
       "\t<tr><td>05</td><td>Arkansas  </td><td>23789</td><td> 709</td><td>165</td><td> 5</td></tr>\n",
       "\t<tr><td>06</td><td>California</td><td>29454</td><td>1358</td><td>109</td><td> 3</td></tr>\n",
       "\t<tr><td>08</td><td>Colorado  </td><td>32401</td><td>1125</td><td>109</td><td> 5</td></tr>\n",
       "</tbody>\n",
       "</table>\n"
      ],
      "text/latex": [
       "A grouped\\_df: 6 × 6\n",
       "\\begin{tabular}{llllll}\n",
       " GEOID & NAME & estimate\\_income & estimate\\_rent & moe\\_income & moe\\_rent\\\\\n",
       " <chr> & <chr> & <dbl> & <dbl> & <dbl> & <dbl>\\\\\n",
       "\\hline\n",
       "\t 01 & Alabama    & 24476 &  747 & 136 &  3\\\\\n",
       "\t 02 & Alaska     & 32940 & 1200 & 508 & 13\\\\\n",
       "\t 04 & Arizona    & 27517 &  972 & 148 &  4\\\\\n",
       "\t 05 & Arkansas   & 23789 &  709 & 165 &  5\\\\\n",
       "\t 06 & California & 29454 & 1358 & 109 &  3\\\\\n",
       "\t 08 & Colorado   & 32401 & 1125 & 109 &  5\\\\\n",
       "\\end{tabular}\n"
      ],
      "text/markdown": [
       "\n",
       "A grouped_df: 6 × 6\n",
       "\n",
       "| GEOID &lt;chr&gt; | NAME &lt;chr&gt; | estimate_income &lt;dbl&gt; | estimate_rent &lt;dbl&gt; | moe_income &lt;dbl&gt; | moe_rent &lt;dbl&gt; |\n",
       "|---|---|---|---|---|---|\n",
       "| 01 | Alabama    | 24476 |  747 | 136 |  3 |\n",
       "| 02 | Alaska     | 32940 | 1200 | 508 | 13 |\n",
       "| 04 | Arizona    | 27517 |  972 | 148 |  4 |\n",
       "| 05 | Arkansas   | 23789 |  709 | 165 |  5 |\n",
       "| 06 | California | 29454 | 1358 | 109 |  3 |\n",
       "| 08 | Colorado   | 32401 | 1125 | 109 |  5 |\n",
       "\n"
      ],
      "text/plain": [
       "  GEOID NAME       estimate_income estimate_rent moe_income moe_rent\n",
       "1 01    Alabama    24476            747          136         3      \n",
       "2 02    Alaska     32940           1200          508        13      \n",
       "3 04    Arizona    27517            972          148         4      \n",
       "4 05    Arkansas   23789            709          165         5      \n",
       "5 06    California 29454           1358          109         3      \n",
       "6 08    Colorado   32401           1125          109         5      "
      ]
     },
     "metadata": {},
     "output_type": "display_data"
    }
   ],
   "source": [
    "us_rent_income %>%\n",
    "  group_by(GEOID, NAME) %>%\n",
    "  pivot_wider(\n",
    "    names_from = variable,\n",
    "    values_from = c(estimate, moe)\n",
    "  ) -> usri.wide\n",
    "\n",
    "usri.wide %>%\n",
    "  head()"
   ]
  },
  {
   "cell_type": "code",
   "execution_count": 15,
   "id": "286cde62",
   "metadata": {
    "name": "tidy12"
   },
   "outputs": [
    {
     "data": {
      "text/html": [
       "<table class=\"dataframe\">\n",
       "<caption>A grouped_df: 20 × 5</caption>\n",
       "<thead>\n",
       "\t<tr><th scope=col>STCOU</th><th scope=col>NAME</th><th scope=col>LSAD</th><th scope=col>variable</th><th scope=col>estimate</th></tr>\n",
       "\t<tr><th scope=col>&lt;chr&gt;</th><th scope=col>&lt;chr&gt;</th><th scope=col>&lt;chr&gt;</th><th scope=col>&lt;chr&gt;</th><th scope=col>&lt;dbl&gt;</th></tr>\n",
       "</thead>\n",
       "<tbody>\n",
       "\t<tr><td>NA</td><td>Abilene, TX</td><td>Metropolitan Statistical Area</td><td>POPESTIMATE2010</td><td>165583</td></tr>\n",
       "\t<tr><td>NA</td><td>Abilene, TX</td><td>Metropolitan Statistical Area</td><td>POPESTIMATE2011</td><td>166616</td></tr>\n",
       "\t<tr><td>NA</td><td>Abilene, TX</td><td>Metropolitan Statistical Area</td><td>POPESTIMATE2012</td><td>167447</td></tr>\n",
       "\t<tr><td>NA</td><td>Abilene, TX</td><td>Metropolitan Statistical Area</td><td>POPESTIMATE2013</td><td>167472</td></tr>\n",
       "\t<tr><td>NA</td><td>Abilene, TX</td><td>Metropolitan Statistical Area</td><td>POPESTIMATE2014</td><td>168355</td></tr>\n",
       "\t<tr><td>NA</td><td>Abilene, TX</td><td>Metropolitan Statistical Area</td><td>POPESTIMATE2015</td><td>169704</td></tr>\n",
       "\t<tr><td>NA</td><td>Abilene, TX</td><td>Metropolitan Statistical Area</td><td>POPESTIMATE2016</td><td>170018</td></tr>\n",
       "\t<tr><td>NA</td><td>Abilene, TX</td><td>Metropolitan Statistical Area</td><td>POPESTIMATE2017</td><td>170516</td></tr>\n",
       "\t<tr><td>NA</td><td>Abilene, TX</td><td>Metropolitan Statistical Area</td><td>POPESTIMATE2018</td><td>171451</td></tr>\n",
       "\t<tr><td>NA</td><td>Abilene, TX</td><td>Metropolitan Statistical Area</td><td>NPOPCHG2010    </td><td>   337</td></tr>\n",
       "\t<tr><td>NA</td><td>Abilene, TX</td><td>Metropolitan Statistical Area</td><td>NPOPCHG2011    </td><td>  1033</td></tr>\n",
       "\t<tr><td>NA</td><td>Abilene, TX</td><td>Metropolitan Statistical Area</td><td>NPOPCHG2012    </td><td>   831</td></tr>\n",
       "\t<tr><td>NA</td><td>Abilene, TX</td><td>Metropolitan Statistical Area</td><td>NPOPCHG2013    </td><td>    25</td></tr>\n",
       "\t<tr><td>NA</td><td>Abilene, TX</td><td>Metropolitan Statistical Area</td><td>NPOPCHG2014    </td><td>   883</td></tr>\n",
       "\t<tr><td>NA</td><td>Abilene, TX</td><td>Metropolitan Statistical Area</td><td>NPOPCHG2015    </td><td>  1349</td></tr>\n",
       "\t<tr><td>NA</td><td>Abilene, TX</td><td>Metropolitan Statistical Area</td><td>NPOPCHG2016    </td><td>   314</td></tr>\n",
       "\t<tr><td>NA</td><td>Abilene, TX</td><td>Metropolitan Statistical Area</td><td>NPOPCHG2017    </td><td>   498</td></tr>\n",
       "\t<tr><td>NA</td><td>Abilene, TX</td><td>Metropolitan Statistical Area</td><td>NPOPCHG2018    </td><td>   935</td></tr>\n",
       "\t<tr><td>NA</td><td>Abilene, TX</td><td>Metropolitan Statistical Area</td><td>BIRTHS2010     </td><td>   540</td></tr>\n",
       "\t<tr><td>NA</td><td>Abilene, TX</td><td>Metropolitan Statistical Area</td><td>BIRTHS2011     </td><td>  2295</td></tr>\n",
       "</tbody>\n",
       "</table>\n"
      ],
      "text/latex": [
       "A grouped\\_df: 20 × 5\n",
       "\\begin{tabular}{lllll}\n",
       " STCOU & NAME & LSAD & variable & estimate\\\\\n",
       " <chr> & <chr> & <chr> & <chr> & <dbl>\\\\\n",
       "\\hline\n",
       "\t NA & Abilene, TX & Metropolitan Statistical Area & POPESTIMATE2010 & 165583\\\\\n",
       "\t NA & Abilene, TX & Metropolitan Statistical Area & POPESTIMATE2011 & 166616\\\\\n",
       "\t NA & Abilene, TX & Metropolitan Statistical Area & POPESTIMATE2012 & 167447\\\\\n",
       "\t NA & Abilene, TX & Metropolitan Statistical Area & POPESTIMATE2013 & 167472\\\\\n",
       "\t NA & Abilene, TX & Metropolitan Statistical Area & POPESTIMATE2014 & 168355\\\\\n",
       "\t NA & Abilene, TX & Metropolitan Statistical Area & POPESTIMATE2015 & 169704\\\\\n",
       "\t NA & Abilene, TX & Metropolitan Statistical Area & POPESTIMATE2016 & 170018\\\\\n",
       "\t NA & Abilene, TX & Metropolitan Statistical Area & POPESTIMATE2017 & 170516\\\\\n",
       "\t NA & Abilene, TX & Metropolitan Statistical Area & POPESTIMATE2018 & 171451\\\\\n",
       "\t NA & Abilene, TX & Metropolitan Statistical Area & NPOPCHG2010     &    337\\\\\n",
       "\t NA & Abilene, TX & Metropolitan Statistical Area & NPOPCHG2011     &   1033\\\\\n",
       "\t NA & Abilene, TX & Metropolitan Statistical Area & NPOPCHG2012     &    831\\\\\n",
       "\t NA & Abilene, TX & Metropolitan Statistical Area & NPOPCHG2013     &     25\\\\\n",
       "\t NA & Abilene, TX & Metropolitan Statistical Area & NPOPCHG2014     &    883\\\\\n",
       "\t NA & Abilene, TX & Metropolitan Statistical Area & NPOPCHG2015     &   1349\\\\\n",
       "\t NA & Abilene, TX & Metropolitan Statistical Area & NPOPCHG2016     &    314\\\\\n",
       "\t NA & Abilene, TX & Metropolitan Statistical Area & NPOPCHG2017     &    498\\\\\n",
       "\t NA & Abilene, TX & Metropolitan Statistical Area & NPOPCHG2018     &    935\\\\\n",
       "\t NA & Abilene, TX & Metropolitan Statistical Area & BIRTHS2010      &    540\\\\\n",
       "\t NA & Abilene, TX & Metropolitan Statistical Area & BIRTHS2011      &   2295\\\\\n",
       "\\end{tabular}\n"
      ],
      "text/markdown": [
       "\n",
       "A grouped_df: 20 × 5\n",
       "\n",
       "| STCOU &lt;chr&gt; | NAME &lt;chr&gt; | LSAD &lt;chr&gt; | variable &lt;chr&gt; | estimate &lt;dbl&gt; |\n",
       "|---|---|---|---|---|\n",
       "| NA | Abilene, TX | Metropolitan Statistical Area | POPESTIMATE2010 | 165583 |\n",
       "| NA | Abilene, TX | Metropolitan Statistical Area | POPESTIMATE2011 | 166616 |\n",
       "| NA | Abilene, TX | Metropolitan Statistical Area | POPESTIMATE2012 | 167447 |\n",
       "| NA | Abilene, TX | Metropolitan Statistical Area | POPESTIMATE2013 | 167472 |\n",
       "| NA | Abilene, TX | Metropolitan Statistical Area | POPESTIMATE2014 | 168355 |\n",
       "| NA | Abilene, TX | Metropolitan Statistical Area | POPESTIMATE2015 | 169704 |\n",
       "| NA | Abilene, TX | Metropolitan Statistical Area | POPESTIMATE2016 | 170018 |\n",
       "| NA | Abilene, TX | Metropolitan Statistical Area | POPESTIMATE2017 | 170516 |\n",
       "| NA | Abilene, TX | Metropolitan Statistical Area | POPESTIMATE2018 | 171451 |\n",
       "| NA | Abilene, TX | Metropolitan Statistical Area | NPOPCHG2010     |    337 |\n",
       "| NA | Abilene, TX | Metropolitan Statistical Area | NPOPCHG2011     |   1033 |\n",
       "| NA | Abilene, TX | Metropolitan Statistical Area | NPOPCHG2012     |    831 |\n",
       "| NA | Abilene, TX | Metropolitan Statistical Area | NPOPCHG2013     |     25 |\n",
       "| NA | Abilene, TX | Metropolitan Statistical Area | NPOPCHG2014     |    883 |\n",
       "| NA | Abilene, TX | Metropolitan Statistical Area | NPOPCHG2015     |   1349 |\n",
       "| NA | Abilene, TX | Metropolitan Statistical Area | NPOPCHG2016     |    314 |\n",
       "| NA | Abilene, TX | Metropolitan Statistical Area | NPOPCHG2017     |    498 |\n",
       "| NA | Abilene, TX | Metropolitan Statistical Area | NPOPCHG2018     |    935 |\n",
       "| NA | Abilene, TX | Metropolitan Statistical Area | BIRTHS2010      |    540 |\n",
       "| NA | Abilene, TX | Metropolitan Statistical Area | BIRTHS2011      |   2295 |\n",
       "\n"
      ],
      "text/plain": [
       "   STCOU NAME        LSAD                          variable        estimate\n",
       "1  NA    Abilene, TX Metropolitan Statistical Area POPESTIMATE2010 165583  \n",
       "2  NA    Abilene, TX Metropolitan Statistical Area POPESTIMATE2011 166616  \n",
       "3  NA    Abilene, TX Metropolitan Statistical Area POPESTIMATE2012 167447  \n",
       "4  NA    Abilene, TX Metropolitan Statistical Area POPESTIMATE2013 167472  \n",
       "5  NA    Abilene, TX Metropolitan Statistical Area POPESTIMATE2014 168355  \n",
       "6  NA    Abilene, TX Metropolitan Statistical Area POPESTIMATE2015 169704  \n",
       "7  NA    Abilene, TX Metropolitan Statistical Area POPESTIMATE2016 170018  \n",
       "8  NA    Abilene, TX Metropolitan Statistical Area POPESTIMATE2017 170516  \n",
       "9  NA    Abilene, TX Metropolitan Statistical Area POPESTIMATE2018 171451  \n",
       "10 NA    Abilene, TX Metropolitan Statistical Area NPOPCHG2010        337  \n",
       "11 NA    Abilene, TX Metropolitan Statistical Area NPOPCHG2011       1033  \n",
       "12 NA    Abilene, TX Metropolitan Statistical Area NPOPCHG2012        831  \n",
       "13 NA    Abilene, TX Metropolitan Statistical Area NPOPCHG2013         25  \n",
       "14 NA    Abilene, TX Metropolitan Statistical Area NPOPCHG2014        883  \n",
       "15 NA    Abilene, TX Metropolitan Statistical Area NPOPCHG2015       1349  \n",
       "16 NA    Abilene, TX Metropolitan Statistical Area NPOPCHG2016        314  \n",
       "17 NA    Abilene, TX Metropolitan Statistical Area NPOPCHG2017        498  \n",
       "18 NA    Abilene, TX Metropolitan Statistical Area NPOPCHG2018        935  \n",
       "19 NA    Abilene, TX Metropolitan Statistical Area BIRTHS2010         540  \n",
       "20 NA    Abilene, TX Metropolitan Statistical Area BIRTHS2011        2295  "
      ]
     },
     "metadata": {},
     "output_type": "display_data"
    }
   ],
   "source": [
    "cbsa %>%\n",
    "  select(3:5, 8:88) %>%\n",
    "  group_by(NAME) %>%\n",
    "  pivot_longer(\n",
    "    names_to = \"variable\",\n",
    "    values_to = \"estimate\",\n",
    "    cols = 4:84\n",
    "    ) -> cbsa.01\n",
    "\n",
    "cbsa.01 %>%\n",
    "  head(., 20)"
   ]
  },
  {
   "cell_type": "code",
   "execution_count": 16,
   "id": "4fd850b2",
   "metadata": {
    "name": "tidy13"
   },
   "outputs": [
    {
     "data": {
      "text/html": [
       "<table class=\"dataframe\">\n",
       "<caption>A grouped_df: 6 × 7</caption>\n",
       "<thead>\n",
       "\t<tr><th scope=col>STCOU</th><th scope=col>NAME</th><th scope=col>LSAD</th><th scope=col>variable</th><th scope=col>vartype</th><th scope=col>year</th><th scope=col>estimate</th></tr>\n",
       "\t<tr><th scope=col>&lt;chr&gt;</th><th scope=col>&lt;chr&gt;</th><th scope=col>&lt;chr&gt;</th><th scope=col>&lt;chr&gt;</th><th scope=col>&lt;chr&gt;</th><th scope=col>&lt;chr&gt;</th><th scope=col>&lt;dbl&gt;</th></tr>\n",
       "</thead>\n",
       "<tbody>\n",
       "\t<tr><td>NA</td><td>Abilene, TX</td><td>Metropolitan Statistical Area</td><td>POPESTIMATE2010</td><td>POPESTIMATE</td><td>2010</td><td>165583</td></tr>\n",
       "\t<tr><td>NA</td><td>Abilene, TX</td><td>Metropolitan Statistical Area</td><td>POPESTIMATE2011</td><td>POPESTIMATE</td><td>2011</td><td>166616</td></tr>\n",
       "\t<tr><td>NA</td><td>Abilene, TX</td><td>Metropolitan Statistical Area</td><td>POPESTIMATE2012</td><td>POPESTIMATE</td><td>2012</td><td>167447</td></tr>\n",
       "\t<tr><td>NA</td><td>Abilene, TX</td><td>Metropolitan Statistical Area</td><td>POPESTIMATE2013</td><td>POPESTIMATE</td><td>2013</td><td>167472</td></tr>\n",
       "\t<tr><td>NA</td><td>Abilene, TX</td><td>Metropolitan Statistical Area</td><td>POPESTIMATE2014</td><td>POPESTIMATE</td><td>2014</td><td>168355</td></tr>\n",
       "\t<tr><td>NA</td><td>Abilene, TX</td><td>Metropolitan Statistical Area</td><td>POPESTIMATE2015</td><td>POPESTIMATE</td><td>2015</td><td>169704</td></tr>\n",
       "</tbody>\n",
       "</table>\n"
      ],
      "text/latex": [
       "A grouped\\_df: 6 × 7\n",
       "\\begin{tabular}{lllllll}\n",
       " STCOU & NAME & LSAD & variable & vartype & year & estimate\\\\\n",
       " <chr> & <chr> & <chr> & <chr> & <chr> & <chr> & <dbl>\\\\\n",
       "\\hline\n",
       "\t NA & Abilene, TX & Metropolitan Statistical Area & POPESTIMATE2010 & POPESTIMATE & 2010 & 165583\\\\\n",
       "\t NA & Abilene, TX & Metropolitan Statistical Area & POPESTIMATE2011 & POPESTIMATE & 2011 & 166616\\\\\n",
       "\t NA & Abilene, TX & Metropolitan Statistical Area & POPESTIMATE2012 & POPESTIMATE & 2012 & 167447\\\\\n",
       "\t NA & Abilene, TX & Metropolitan Statistical Area & POPESTIMATE2013 & POPESTIMATE & 2013 & 167472\\\\\n",
       "\t NA & Abilene, TX & Metropolitan Statistical Area & POPESTIMATE2014 & POPESTIMATE & 2014 & 168355\\\\\n",
       "\t NA & Abilene, TX & Metropolitan Statistical Area & POPESTIMATE2015 & POPESTIMATE & 2015 & 169704\\\\\n",
       "\\end{tabular}\n"
      ],
      "text/markdown": [
       "\n",
       "A grouped_df: 6 × 7\n",
       "\n",
       "| STCOU &lt;chr&gt; | NAME &lt;chr&gt; | LSAD &lt;chr&gt; | variable &lt;chr&gt; | vartype &lt;chr&gt; | year &lt;chr&gt; | estimate &lt;dbl&gt; |\n",
       "|---|---|---|---|---|---|---|\n",
       "| NA | Abilene, TX | Metropolitan Statistical Area | POPESTIMATE2010 | POPESTIMATE | 2010 | 165583 |\n",
       "| NA | Abilene, TX | Metropolitan Statistical Area | POPESTIMATE2011 | POPESTIMATE | 2011 | 166616 |\n",
       "| NA | Abilene, TX | Metropolitan Statistical Area | POPESTIMATE2012 | POPESTIMATE | 2012 | 167447 |\n",
       "| NA | Abilene, TX | Metropolitan Statistical Area | POPESTIMATE2013 | POPESTIMATE | 2013 | 167472 |\n",
       "| NA | Abilene, TX | Metropolitan Statistical Area | POPESTIMATE2014 | POPESTIMATE | 2014 | 168355 |\n",
       "| NA | Abilene, TX | Metropolitan Statistical Area | POPESTIMATE2015 | POPESTIMATE | 2015 | 169704 |\n",
       "\n"
      ],
      "text/plain": [
       "  STCOU NAME        LSAD                          variable        vartype    \n",
       "1 NA    Abilene, TX Metropolitan Statistical Area POPESTIMATE2010 POPESTIMATE\n",
       "2 NA    Abilene, TX Metropolitan Statistical Area POPESTIMATE2011 POPESTIMATE\n",
       "3 NA    Abilene, TX Metropolitan Statistical Area POPESTIMATE2012 POPESTIMATE\n",
       "4 NA    Abilene, TX Metropolitan Statistical Area POPESTIMATE2013 POPESTIMATE\n",
       "5 NA    Abilene, TX Metropolitan Statistical Area POPESTIMATE2014 POPESTIMATE\n",
       "6 NA    Abilene, TX Metropolitan Statistical Area POPESTIMATE2015 POPESTIMATE\n",
       "  year estimate\n",
       "1 2010 165583  \n",
       "2 2011 166616  \n",
       "3 2012 167447  \n",
       "4 2013 167472  \n",
       "5 2014 168355  \n",
       "6 2015 169704  "
      ]
     },
     "metadata": {},
     "output_type": "display_data"
    }
   ],
   "source": [
    "cbsa.01 %>%\n",
    "  separate(\n",
    "    col = \"variable\",\n",
    "    into = c(\"vartype\", \"year\"),\n",
    "    sep = \"(?=[[:digit:]])\",\n",
    "    extra = \"merge\",\n",
    "    remove = FALSE\n",
    "  ) -> cbsa.02\n",
    "\n",
    "cbsa.02 %>%\n",
    "  head()"
   ]
  },
  {
   "cell_type": "code",
   "execution_count": 17,
   "id": "3c04633b-4d3e-43fd-98e8-f636951c3940",
   "metadata": {},
   "outputs": [
    {
     "data": {
      "text/html": [
       "<style>\n",
       ".list-inline {list-style: none; margin:0; padding: 0}\n",
       ".list-inline>li {display: inline-block}\n",
       ".list-inline>li:not(:last-child)::after {content: \"\\00b7\"; padding: 0 .5ex}\n",
       "</style>\n",
       "<ol class=list-inline><li>'CBSA'</li><li>'MDIV'</li><li>'STCOU'</li><li>'NAME'</li><li>'LSAD'</li><li>'CENSUS2010POP'</li><li>'ESTIMATESBASE2010'</li><li>'POPESTIMATE2010'</li><li>'POPESTIMATE2011'</li><li>'POPESTIMATE2012'</li><li>'POPESTIMATE2013'</li><li>'POPESTIMATE2014'</li><li>'POPESTIMATE2015'</li><li>'POPESTIMATE2016'</li><li>'POPESTIMATE2017'</li><li>'POPESTIMATE2018'</li><li>'NPOPCHG2010'</li><li>'NPOPCHG2011'</li><li>'NPOPCHG2012'</li><li>'NPOPCHG2013'</li><li>'NPOPCHG2014'</li><li>'NPOPCHG2015'</li><li>'NPOPCHG2016'</li><li>'NPOPCHG2017'</li><li>'NPOPCHG2018'</li><li>'BIRTHS2010'</li><li>'BIRTHS2011'</li><li>'BIRTHS2012'</li><li>'BIRTHS2013'</li><li>'BIRTHS2014'</li><li>'BIRTHS2015'</li><li>'BIRTHS2016'</li><li>'BIRTHS2017'</li><li>'BIRTHS2018'</li><li>'DEATHS2010'</li><li>'DEATHS2011'</li><li>'DEATHS2012'</li><li>'DEATHS2013'</li><li>'DEATHS2014'</li><li>'DEATHS2015'</li><li>'DEATHS2016'</li><li>'DEATHS2017'</li><li>'DEATHS2018'</li><li>'NATURALINC2010'</li><li>'NATURALINC2011'</li><li>'NATURALINC2012'</li><li>'NATURALINC2013'</li><li>'NATURALINC2014'</li><li>'NATURALINC2015'</li><li>'NATURALINC2016'</li><li>'NATURALINC2017'</li><li>'NATURALINC2018'</li><li>'INTERNATIONALMIG2010'</li><li>'INTERNATIONALMIG2011'</li><li>'INTERNATIONALMIG2012'</li><li>'INTERNATIONALMIG2013'</li><li>'INTERNATIONALMIG2014'</li><li>'INTERNATIONALMIG2015'</li><li>'INTERNATIONALMIG2016'</li><li>'INTERNATIONALMIG2017'</li><li>'INTERNATIONALMIG2018'</li><li>'DOMESTICMIG2010'</li><li>'DOMESTICMIG2011'</li><li>'DOMESTICMIG2012'</li><li>'DOMESTICMIG2013'</li><li>'DOMESTICMIG2014'</li><li>'DOMESTICMIG2015'</li><li>'DOMESTICMIG2016'</li><li>'DOMESTICMIG2017'</li><li>'DOMESTICMIG2018'</li><li>'NETMIG2010'</li><li>'NETMIG2011'</li><li>'NETMIG2012'</li><li>'NETMIG2013'</li><li>'NETMIG2014'</li><li>'NETMIG2015'</li><li>'NETMIG2016'</li><li>'NETMIG2017'</li><li>'NETMIG2018'</li><li>'RESIDUAL2010'</li><li>'RESIDUAL2011'</li><li>'RESIDUAL2012'</li><li>'RESIDUAL2013'</li><li>'RESIDUAL2014'</li><li>'RESIDUAL2015'</li><li>'RESIDUAL2016'</li><li>'RESIDUAL2017'</li><li>'RESIDUAL2018'</li></ol>\n"
      ],
      "text/latex": [
       "\\begin{enumerate*}\n",
       "\\item 'CBSA'\n",
       "\\item 'MDIV'\n",
       "\\item 'STCOU'\n",
       "\\item 'NAME'\n",
       "\\item 'LSAD'\n",
       "\\item 'CENSUS2010POP'\n",
       "\\item 'ESTIMATESBASE2010'\n",
       "\\item 'POPESTIMATE2010'\n",
       "\\item 'POPESTIMATE2011'\n",
       "\\item 'POPESTIMATE2012'\n",
       "\\item 'POPESTIMATE2013'\n",
       "\\item 'POPESTIMATE2014'\n",
       "\\item 'POPESTIMATE2015'\n",
       "\\item 'POPESTIMATE2016'\n",
       "\\item 'POPESTIMATE2017'\n",
       "\\item 'POPESTIMATE2018'\n",
       "\\item 'NPOPCHG2010'\n",
       "\\item 'NPOPCHG2011'\n",
       "\\item 'NPOPCHG2012'\n",
       "\\item 'NPOPCHG2013'\n",
       "\\item 'NPOPCHG2014'\n",
       "\\item 'NPOPCHG2015'\n",
       "\\item 'NPOPCHG2016'\n",
       "\\item 'NPOPCHG2017'\n",
       "\\item 'NPOPCHG2018'\n",
       "\\item 'BIRTHS2010'\n",
       "\\item 'BIRTHS2011'\n",
       "\\item 'BIRTHS2012'\n",
       "\\item 'BIRTHS2013'\n",
       "\\item 'BIRTHS2014'\n",
       "\\item 'BIRTHS2015'\n",
       "\\item 'BIRTHS2016'\n",
       "\\item 'BIRTHS2017'\n",
       "\\item 'BIRTHS2018'\n",
       "\\item 'DEATHS2010'\n",
       "\\item 'DEATHS2011'\n",
       "\\item 'DEATHS2012'\n",
       "\\item 'DEATHS2013'\n",
       "\\item 'DEATHS2014'\n",
       "\\item 'DEATHS2015'\n",
       "\\item 'DEATHS2016'\n",
       "\\item 'DEATHS2017'\n",
       "\\item 'DEATHS2018'\n",
       "\\item 'NATURALINC2010'\n",
       "\\item 'NATURALINC2011'\n",
       "\\item 'NATURALINC2012'\n",
       "\\item 'NATURALINC2013'\n",
       "\\item 'NATURALINC2014'\n",
       "\\item 'NATURALINC2015'\n",
       "\\item 'NATURALINC2016'\n",
       "\\item 'NATURALINC2017'\n",
       "\\item 'NATURALINC2018'\n",
       "\\item 'INTERNATIONALMIG2010'\n",
       "\\item 'INTERNATIONALMIG2011'\n",
       "\\item 'INTERNATIONALMIG2012'\n",
       "\\item 'INTERNATIONALMIG2013'\n",
       "\\item 'INTERNATIONALMIG2014'\n",
       "\\item 'INTERNATIONALMIG2015'\n",
       "\\item 'INTERNATIONALMIG2016'\n",
       "\\item 'INTERNATIONALMIG2017'\n",
       "\\item 'INTERNATIONALMIG2018'\n",
       "\\item 'DOMESTICMIG2010'\n",
       "\\item 'DOMESTICMIG2011'\n",
       "\\item 'DOMESTICMIG2012'\n",
       "\\item 'DOMESTICMIG2013'\n",
       "\\item 'DOMESTICMIG2014'\n",
       "\\item 'DOMESTICMIG2015'\n",
       "\\item 'DOMESTICMIG2016'\n",
       "\\item 'DOMESTICMIG2017'\n",
       "\\item 'DOMESTICMIG2018'\n",
       "\\item 'NETMIG2010'\n",
       "\\item 'NETMIG2011'\n",
       "\\item 'NETMIG2012'\n",
       "\\item 'NETMIG2013'\n",
       "\\item 'NETMIG2014'\n",
       "\\item 'NETMIG2015'\n",
       "\\item 'NETMIG2016'\n",
       "\\item 'NETMIG2017'\n",
       "\\item 'NETMIG2018'\n",
       "\\item 'RESIDUAL2010'\n",
       "\\item 'RESIDUAL2011'\n",
       "\\item 'RESIDUAL2012'\n",
       "\\item 'RESIDUAL2013'\n",
       "\\item 'RESIDUAL2014'\n",
       "\\item 'RESIDUAL2015'\n",
       "\\item 'RESIDUAL2016'\n",
       "\\item 'RESIDUAL2017'\n",
       "\\item 'RESIDUAL2018'\n",
       "\\end{enumerate*}\n"
      ],
      "text/markdown": [
       "1. 'CBSA'\n",
       "2. 'MDIV'\n",
       "3. 'STCOU'\n",
       "4. 'NAME'\n",
       "5. 'LSAD'\n",
       "6. 'CENSUS2010POP'\n",
       "7. 'ESTIMATESBASE2010'\n",
       "8. 'POPESTIMATE2010'\n",
       "9. 'POPESTIMATE2011'\n",
       "10. 'POPESTIMATE2012'\n",
       "11. 'POPESTIMATE2013'\n",
       "12. 'POPESTIMATE2014'\n",
       "13. 'POPESTIMATE2015'\n",
       "14. 'POPESTIMATE2016'\n",
       "15. 'POPESTIMATE2017'\n",
       "16. 'POPESTIMATE2018'\n",
       "17. 'NPOPCHG2010'\n",
       "18. 'NPOPCHG2011'\n",
       "19. 'NPOPCHG2012'\n",
       "20. 'NPOPCHG2013'\n",
       "21. 'NPOPCHG2014'\n",
       "22. 'NPOPCHG2015'\n",
       "23. 'NPOPCHG2016'\n",
       "24. 'NPOPCHG2017'\n",
       "25. 'NPOPCHG2018'\n",
       "26. 'BIRTHS2010'\n",
       "27. 'BIRTHS2011'\n",
       "28. 'BIRTHS2012'\n",
       "29. 'BIRTHS2013'\n",
       "30. 'BIRTHS2014'\n",
       "31. 'BIRTHS2015'\n",
       "32. 'BIRTHS2016'\n",
       "33. 'BIRTHS2017'\n",
       "34. 'BIRTHS2018'\n",
       "35. 'DEATHS2010'\n",
       "36. 'DEATHS2011'\n",
       "37. 'DEATHS2012'\n",
       "38. 'DEATHS2013'\n",
       "39. 'DEATHS2014'\n",
       "40. 'DEATHS2015'\n",
       "41. 'DEATHS2016'\n",
       "42. 'DEATHS2017'\n",
       "43. 'DEATHS2018'\n",
       "44. 'NATURALINC2010'\n",
       "45. 'NATURALINC2011'\n",
       "46. 'NATURALINC2012'\n",
       "47. 'NATURALINC2013'\n",
       "48. 'NATURALINC2014'\n",
       "49. 'NATURALINC2015'\n",
       "50. 'NATURALINC2016'\n",
       "51. 'NATURALINC2017'\n",
       "52. 'NATURALINC2018'\n",
       "53. 'INTERNATIONALMIG2010'\n",
       "54. 'INTERNATIONALMIG2011'\n",
       "55. 'INTERNATIONALMIG2012'\n",
       "56. 'INTERNATIONALMIG2013'\n",
       "57. 'INTERNATIONALMIG2014'\n",
       "58. 'INTERNATIONALMIG2015'\n",
       "59. 'INTERNATIONALMIG2016'\n",
       "60. 'INTERNATIONALMIG2017'\n",
       "61. 'INTERNATIONALMIG2018'\n",
       "62. 'DOMESTICMIG2010'\n",
       "63. 'DOMESTICMIG2011'\n",
       "64. 'DOMESTICMIG2012'\n",
       "65. 'DOMESTICMIG2013'\n",
       "66. 'DOMESTICMIG2014'\n",
       "67. 'DOMESTICMIG2015'\n",
       "68. 'DOMESTICMIG2016'\n",
       "69. 'DOMESTICMIG2017'\n",
       "70. 'DOMESTICMIG2018'\n",
       "71. 'NETMIG2010'\n",
       "72. 'NETMIG2011'\n",
       "73. 'NETMIG2012'\n",
       "74. 'NETMIG2013'\n",
       "75. 'NETMIG2014'\n",
       "76. 'NETMIG2015'\n",
       "77. 'NETMIG2016'\n",
       "78. 'NETMIG2017'\n",
       "79. 'NETMIG2018'\n",
       "80. 'RESIDUAL2010'\n",
       "81. 'RESIDUAL2011'\n",
       "82. 'RESIDUAL2012'\n",
       "83. 'RESIDUAL2013'\n",
       "84. 'RESIDUAL2014'\n",
       "85. 'RESIDUAL2015'\n",
       "86. 'RESIDUAL2016'\n",
       "87. 'RESIDUAL2017'\n",
       "88. 'RESIDUAL2018'\n",
       "\n",
       "\n"
      ],
      "text/plain": [
       " [1] \"CBSA\"                 \"MDIV\"                 \"STCOU\"               \n",
       " [4] \"NAME\"                 \"LSAD\"                 \"CENSUS2010POP\"       \n",
       " [7] \"ESTIMATESBASE2010\"    \"POPESTIMATE2010\"      \"POPESTIMATE2011\"     \n",
       "[10] \"POPESTIMATE2012\"      \"POPESTIMATE2013\"      \"POPESTIMATE2014\"     \n",
       "[13] \"POPESTIMATE2015\"      \"POPESTIMATE2016\"      \"POPESTIMATE2017\"     \n",
       "[16] \"POPESTIMATE2018\"      \"NPOPCHG2010\"          \"NPOPCHG2011\"         \n",
       "[19] \"NPOPCHG2012\"          \"NPOPCHG2013\"          \"NPOPCHG2014\"         \n",
       "[22] \"NPOPCHG2015\"          \"NPOPCHG2016\"          \"NPOPCHG2017\"         \n",
       "[25] \"NPOPCHG2018\"          \"BIRTHS2010\"           \"BIRTHS2011\"          \n",
       "[28] \"BIRTHS2012\"           \"BIRTHS2013\"           \"BIRTHS2014\"          \n",
       "[31] \"BIRTHS2015\"           \"BIRTHS2016\"           \"BIRTHS2017\"          \n",
       "[34] \"BIRTHS2018\"           \"DEATHS2010\"           \"DEATHS2011\"          \n",
       "[37] \"DEATHS2012\"           \"DEATHS2013\"           \"DEATHS2014\"          \n",
       "[40] \"DEATHS2015\"           \"DEATHS2016\"           \"DEATHS2017\"          \n",
       "[43] \"DEATHS2018\"           \"NATURALINC2010\"       \"NATURALINC2011\"      \n",
       "[46] \"NATURALINC2012\"       \"NATURALINC2013\"       \"NATURALINC2014\"      \n",
       "[49] \"NATURALINC2015\"       \"NATURALINC2016\"       \"NATURALINC2017\"      \n",
       "[52] \"NATURALINC2018\"       \"INTERNATIONALMIG2010\" \"INTERNATIONALMIG2011\"\n",
       "[55] \"INTERNATIONALMIG2012\" \"INTERNATIONALMIG2013\" \"INTERNATIONALMIG2014\"\n",
       "[58] \"INTERNATIONALMIG2015\" \"INTERNATIONALMIG2016\" \"INTERNATIONALMIG2017\"\n",
       "[61] \"INTERNATIONALMIG2018\" \"DOMESTICMIG2010\"      \"DOMESTICMIG2011\"     \n",
       "[64] \"DOMESTICMIG2012\"      \"DOMESTICMIG2013\"      \"DOMESTICMIG2014\"     \n",
       "[67] \"DOMESTICMIG2015\"      \"DOMESTICMIG2016\"      \"DOMESTICMIG2017\"     \n",
       "[70] \"DOMESTICMIG2018\"      \"NETMIG2010\"           \"NETMIG2011\"          \n",
       "[73] \"NETMIG2012\"           \"NETMIG2013\"           \"NETMIG2014\"          \n",
       "[76] \"NETMIG2015\"           \"NETMIG2016\"           \"NETMIG2017\"          \n",
       "[79] \"NETMIG2018\"           \"RESIDUAL2010\"         \"RESIDUAL2011\"        \n",
       "[82] \"RESIDUAL2012\"         \"RESIDUAL2013\"         \"RESIDUAL2014\"        \n",
       "[85] \"RESIDUAL2015\"         \"RESIDUAL2016\"         \"RESIDUAL2017\"        \n",
       "[88] \"RESIDUAL2018\"        "
      ]
     },
     "metadata": {},
     "output_type": "display_data"
    }
   ],
   "source": [
    "names(cbsa)"
   ]
  },
  {
   "cell_type": "code",
   "execution_count": 18,
   "id": "8f0b0b20",
   "metadata": {
    "lines_to_next_cell": 2,
    "name": "tidy14"
   },
   "outputs": [
    {
     "name": "stderr",
     "output_type": "stream",
     "text": [
      "Warning message:\n",
      "“Values are not uniquely identified; output will contain list-cols.\n",
      "* Use `values_fn = list` to suppress this warning.\n",
      "* Use `values_fn = length` to identify where the duplicates arise\n",
      "* Use `values_fn = {summary_fun}` to summarise duplicates”\n"
     ]
    },
    {
     "name": "stdout",
     "output_type": "stream",
     "text": [
      "Rows: 25,083\n",
      "Columns: 11\n",
      "Groups: NAME, year [25,083]\n",
      "$ NAME             \u001b[3m\u001b[90m<chr>\u001b[39m\u001b[23m \"Abilene, TX\", \"Abilene, TX\", \"Abilene, TX\", \"Abilene…\n",
      "$ year             \u001b[3m\u001b[90m<chr>\u001b[39m\u001b[23m \"2010\", \"2011\", \"2012\", \"2013\", \"2014\", \"2015\", \"2016…\n",
      "$ POPESTIMATE      \u001b[3m\u001b[90m<list>\u001b[39m\u001b[23m 165583, 166616, 167447, 167472, 168355, 169704, 1700…\n",
      "$ NPOPCHG          \u001b[3m\u001b[90m<list>\u001b[39m\u001b[23m 337, 1033, 831, 25, 883, 1349, 314, 498, 935, -33, -…\n",
      "$ BIRTHS           \u001b[3m\u001b[90m<list>\u001b[39m\u001b[23m 540, 2295, 2358, 2390, 2382, 2417, 2379, 2427, 2381,…\n",
      "$ DEATHS           \u001b[3m\u001b[90m<list>\u001b[39m\u001b[23m 406, 1506, 1587, 1694, 1598, 1698, 1726, 1705, 1739,…\n",
      "$ NATURALINC       \u001b[3m\u001b[90m<list>\u001b[39m\u001b[23m 134, 789, 771, 696, 784, 719, 653, 722, 642, -29, -3…\n",
      "$ INTERNATIONALMIG \u001b[3m\u001b[90m<list>\u001b[39m\u001b[23m 84, 205, 516, 361, 419, 484, 388, 325, 282, 0, 4, 5,…\n",
      "$ DOMESTICMIG      \u001b[3m\u001b[90m<list>\u001b[39m\u001b[23m 124, 54, -448, -1051, -301, 162, -723, -544, 19, -3,…\n",
      "$ NETMIG           \u001b[3m\u001b[90m<list>\u001b[39m\u001b[23m 208, 259, 68, -690, 118, 646, -335, -219, 301, -3, 3…\n",
      "$ RESIDUAL         \u001b[3m\u001b[90m<list>\u001b[39m\u001b[23m -5, -15, -8, 19, -19, -16, -4, -5, -8, -1, -1, -2, -…\n"
     ]
    }
   ],
   "source": [
    "cbsa.02 %>%\n",
    "  select(c(2, 5:7)) %>%\n",
    "  group_by(NAME, year) %>%\n",
    "  pivot_wider(\n",
    "    names_from = \"vartype\",\n",
    "    values_from = \"estimate\"\n",
    "  ) -> cbsa.03\n",
    "\n",
    "cbsa.03 %>%\n",
    "  glimpse()"
   ]
  },
  {
   "cell_type": "code",
   "execution_count": 19,
   "id": "f3e82373",
   "metadata": {
    "name": "tiyex01"
   },
   "outputs": [
    {
     "data": {
      "text/html": [
       "<table class=\"dataframe\">\n",
       "<caption>A data.frame: 22 × 35</caption>\n",
       "<thead>\n",
       "\t<tr><th scope=col>id</th><th scope=col>year</th><th scope=col>month</th><th scope=col>element</th><th scope=col>d1</th><th scope=col>d2</th><th scope=col>d3</th><th scope=col>d4</th><th scope=col>d5</th><th scope=col>d6</th><th scope=col>⋯</th><th scope=col>d22</th><th scope=col>d23</th><th scope=col>d24</th><th scope=col>d25</th><th scope=col>d26</th><th scope=col>d27</th><th scope=col>d28</th><th scope=col>d29</th><th scope=col>d30</th><th scope=col>d31</th></tr>\n",
       "\t<tr><th scope=col>&lt;chr&gt;</th><th scope=col>&lt;int&gt;</th><th scope=col>&lt;int&gt;</th><th scope=col>&lt;chr&gt;</th><th scope=col>&lt;int&gt;</th><th scope=col>&lt;int&gt;</th><th scope=col>&lt;int&gt;</th><th scope=col>&lt;int&gt;</th><th scope=col>&lt;int&gt;</th><th scope=col>&lt;int&gt;</th><th scope=col>⋯</th><th scope=col>&lt;lgl&gt;</th><th scope=col>&lt;int&gt;</th><th scope=col>&lt;lgl&gt;</th><th scope=col>&lt;int&gt;</th><th scope=col>&lt;int&gt;</th><th scope=col>&lt;int&gt;</th><th scope=col>&lt;int&gt;</th><th scope=col>&lt;int&gt;</th><th scope=col>&lt;int&gt;</th><th scope=col>&lt;int&gt;</th></tr>\n",
       "</thead>\n",
       "<tbody>\n",
       "\t<tr><td>MX000017004</td><td>2010</td><td> 1</td><td>TMAX</td><td> NA</td><td> NA</td><td> NA</td><td> NA</td><td> NA</td><td> NA</td><td>⋯</td><td>NA</td><td> NA</td><td>NA</td><td> NA</td><td> NA</td><td> NA</td><td> NA</td><td> NA</td><td>278</td><td> NA</td></tr>\n",
       "\t<tr><td>MX000017004</td><td>2010</td><td> 1</td><td>TMIN</td><td> NA</td><td> NA</td><td> NA</td><td> NA</td><td> NA</td><td> NA</td><td>⋯</td><td>NA</td><td> NA</td><td>NA</td><td> NA</td><td> NA</td><td> NA</td><td> NA</td><td> NA</td><td>145</td><td> NA</td></tr>\n",
       "\t<tr><td>MX000017004</td><td>2010</td><td> 2</td><td>TMAX</td><td> NA</td><td>273</td><td>241</td><td> NA</td><td> NA</td><td> NA</td><td>⋯</td><td>NA</td><td>299</td><td>NA</td><td> NA</td><td> NA</td><td> NA</td><td> NA</td><td> NA</td><td> NA</td><td> NA</td></tr>\n",
       "\t<tr><td>MX000017004</td><td>2010</td><td> 2</td><td>TMIN</td><td> NA</td><td>144</td><td>144</td><td> NA</td><td> NA</td><td> NA</td><td>⋯</td><td>NA</td><td>107</td><td>NA</td><td> NA</td><td> NA</td><td> NA</td><td> NA</td><td> NA</td><td> NA</td><td> NA</td></tr>\n",
       "\t<tr><td>MX000017004</td><td>2010</td><td> 3</td><td>TMAX</td><td> NA</td><td> NA</td><td> NA</td><td> NA</td><td>321</td><td> NA</td><td>⋯</td><td>NA</td><td> NA</td><td>NA</td><td> NA</td><td> NA</td><td> NA</td><td> NA</td><td> NA</td><td> NA</td><td> NA</td></tr>\n",
       "\t<tr><td>MX000017004</td><td>2010</td><td> 3</td><td>TMIN</td><td> NA</td><td> NA</td><td> NA</td><td> NA</td><td>142</td><td> NA</td><td>⋯</td><td>NA</td><td> NA</td><td>NA</td><td> NA</td><td> NA</td><td> NA</td><td> NA</td><td> NA</td><td> NA</td><td> NA</td></tr>\n",
       "\t<tr><td>MX000017004</td><td>2010</td><td> 4</td><td>TMAX</td><td> NA</td><td> NA</td><td> NA</td><td> NA</td><td> NA</td><td> NA</td><td>⋯</td><td>NA</td><td> NA</td><td>NA</td><td> NA</td><td> NA</td><td>363</td><td> NA</td><td> NA</td><td> NA</td><td> NA</td></tr>\n",
       "\t<tr><td>MX000017004</td><td>2010</td><td> 4</td><td>TMIN</td><td> NA</td><td> NA</td><td> NA</td><td> NA</td><td> NA</td><td> NA</td><td>⋯</td><td>NA</td><td> NA</td><td>NA</td><td> NA</td><td> NA</td><td>167</td><td> NA</td><td> NA</td><td> NA</td><td> NA</td></tr>\n",
       "\t<tr><td>MX000017004</td><td>2010</td><td> 5</td><td>TMAX</td><td> NA</td><td> NA</td><td> NA</td><td> NA</td><td> NA</td><td> NA</td><td>⋯</td><td>NA</td><td> NA</td><td>NA</td><td> NA</td><td> NA</td><td>332</td><td> NA</td><td> NA</td><td> NA</td><td> NA</td></tr>\n",
       "\t<tr><td>MX000017004</td><td>2010</td><td> 5</td><td>TMIN</td><td> NA</td><td> NA</td><td> NA</td><td> NA</td><td> NA</td><td> NA</td><td>⋯</td><td>NA</td><td> NA</td><td>NA</td><td> NA</td><td> NA</td><td>182</td><td> NA</td><td> NA</td><td> NA</td><td> NA</td></tr>\n",
       "\t<tr><td>MX000017004</td><td>2010</td><td> 6</td><td>TMAX</td><td> NA</td><td> NA</td><td> NA</td><td> NA</td><td> NA</td><td> NA</td><td>⋯</td><td>NA</td><td> NA</td><td>NA</td><td> NA</td><td> NA</td><td> NA</td><td> NA</td><td>301</td><td> NA</td><td> NA</td></tr>\n",
       "\t<tr><td>MX000017004</td><td>2010</td><td> 6</td><td>TMIN</td><td> NA</td><td> NA</td><td> NA</td><td> NA</td><td> NA</td><td> NA</td><td>⋯</td><td>NA</td><td> NA</td><td>NA</td><td> NA</td><td> NA</td><td> NA</td><td> NA</td><td>180</td><td> NA</td><td> NA</td></tr>\n",
       "\t<tr><td>MX000017004</td><td>2010</td><td> 7</td><td>TMAX</td><td> NA</td><td> NA</td><td>286</td><td> NA</td><td> NA</td><td> NA</td><td>⋯</td><td>NA</td><td> NA</td><td>NA</td><td> NA</td><td> NA</td><td> NA</td><td> NA</td><td> NA</td><td> NA</td><td> NA</td></tr>\n",
       "\t<tr><td>MX000017004</td><td>2010</td><td> 7</td><td>TMIN</td><td> NA</td><td> NA</td><td>175</td><td> NA</td><td> NA</td><td> NA</td><td>⋯</td><td>NA</td><td> NA</td><td>NA</td><td> NA</td><td> NA</td><td> NA</td><td> NA</td><td> NA</td><td> NA</td><td> NA</td></tr>\n",
       "\t<tr><td>MX000017004</td><td>2010</td><td> 8</td><td>TMAX</td><td> NA</td><td> NA</td><td> NA</td><td> NA</td><td>296</td><td> NA</td><td>⋯</td><td>NA</td><td>264</td><td>NA</td><td>297</td><td> NA</td><td> NA</td><td> NA</td><td>280</td><td> NA</td><td>254</td></tr>\n",
       "\t<tr><td>MX000017004</td><td>2010</td><td> 8</td><td>TMIN</td><td> NA</td><td> NA</td><td> NA</td><td> NA</td><td>158</td><td> NA</td><td>⋯</td><td>NA</td><td>150</td><td>NA</td><td>156</td><td> NA</td><td> NA</td><td> NA</td><td>153</td><td> NA</td><td>154</td></tr>\n",
       "\t<tr><td>MX000017004</td><td>2010</td><td>10</td><td>TMAX</td><td> NA</td><td> NA</td><td> NA</td><td> NA</td><td>270</td><td> NA</td><td>⋯</td><td>NA</td><td> NA</td><td>NA</td><td> NA</td><td> NA</td><td> NA</td><td>312</td><td> NA</td><td> NA</td><td> NA</td></tr>\n",
       "\t<tr><td>MX000017004</td><td>2010</td><td>10</td><td>TMIN</td><td> NA</td><td> NA</td><td> NA</td><td> NA</td><td>140</td><td> NA</td><td>⋯</td><td>NA</td><td> NA</td><td>NA</td><td> NA</td><td> NA</td><td> NA</td><td>150</td><td> NA</td><td> NA</td><td> NA</td></tr>\n",
       "\t<tr><td>MX000017004</td><td>2010</td><td>11</td><td>TMAX</td><td> NA</td><td>313</td><td> NA</td><td>272</td><td>263</td><td> NA</td><td>⋯</td><td>NA</td><td> NA</td><td>NA</td><td> NA</td><td>281</td><td>277</td><td> NA</td><td> NA</td><td> NA</td><td> NA</td></tr>\n",
       "\t<tr><td>MX000017004</td><td>2010</td><td>11</td><td>TMIN</td><td> NA</td><td>163</td><td> NA</td><td>120</td><td> 79</td><td> NA</td><td>⋯</td><td>NA</td><td> NA</td><td>NA</td><td> NA</td><td>121</td><td>142</td><td> NA</td><td> NA</td><td> NA</td><td> NA</td></tr>\n",
       "\t<tr><td>MX000017004</td><td>2010</td><td>12</td><td>TMAX</td><td>299</td><td> NA</td><td> NA</td><td> NA</td><td> NA</td><td>278</td><td>⋯</td><td>NA</td><td> NA</td><td>NA</td><td> NA</td><td> NA</td><td> NA</td><td> NA</td><td> NA</td><td> NA</td><td> NA</td></tr>\n",
       "\t<tr><td>MX000017004</td><td>2010</td><td>12</td><td>TMIN</td><td>138</td><td> NA</td><td> NA</td><td> NA</td><td> NA</td><td>105</td><td>⋯</td><td>NA</td><td> NA</td><td>NA</td><td> NA</td><td> NA</td><td> NA</td><td> NA</td><td> NA</td><td> NA</td><td> NA</td></tr>\n",
       "</tbody>\n",
       "</table>\n"
      ],
      "text/latex": [
       "A data.frame: 22 × 35\n",
       "\\begin{tabular}{lllllllllllllllllllll}\n",
       " id & year & month & element & d1 & d2 & d3 & d4 & d5 & d6 & ⋯ & d22 & d23 & d24 & d25 & d26 & d27 & d28 & d29 & d30 & d31\\\\\n",
       " <chr> & <int> & <int> & <chr> & <int> & <int> & <int> & <int> & <int> & <int> & ⋯ & <lgl> & <int> & <lgl> & <int> & <int> & <int> & <int> & <int> & <int> & <int>\\\\\n",
       "\\hline\n",
       "\t MX000017004 & 2010 &  1 & TMAX &  NA &  NA &  NA &  NA &  NA &  NA & ⋯ & NA &  NA & NA &  NA &  NA &  NA &  NA &  NA & 278 &  NA\\\\\n",
       "\t MX000017004 & 2010 &  1 & TMIN &  NA &  NA &  NA &  NA &  NA &  NA & ⋯ & NA &  NA & NA &  NA &  NA &  NA &  NA &  NA & 145 &  NA\\\\\n",
       "\t MX000017004 & 2010 &  2 & TMAX &  NA & 273 & 241 &  NA &  NA &  NA & ⋯ & NA & 299 & NA &  NA &  NA &  NA &  NA &  NA &  NA &  NA\\\\\n",
       "\t MX000017004 & 2010 &  2 & TMIN &  NA & 144 & 144 &  NA &  NA &  NA & ⋯ & NA & 107 & NA &  NA &  NA &  NA &  NA &  NA &  NA &  NA\\\\\n",
       "\t MX000017004 & 2010 &  3 & TMAX &  NA &  NA &  NA &  NA & 321 &  NA & ⋯ & NA &  NA & NA &  NA &  NA &  NA &  NA &  NA &  NA &  NA\\\\\n",
       "\t MX000017004 & 2010 &  3 & TMIN &  NA &  NA &  NA &  NA & 142 &  NA & ⋯ & NA &  NA & NA &  NA &  NA &  NA &  NA &  NA &  NA &  NA\\\\\n",
       "\t MX000017004 & 2010 &  4 & TMAX &  NA &  NA &  NA &  NA &  NA &  NA & ⋯ & NA &  NA & NA &  NA &  NA & 363 &  NA &  NA &  NA &  NA\\\\\n",
       "\t MX000017004 & 2010 &  4 & TMIN &  NA &  NA &  NA &  NA &  NA &  NA & ⋯ & NA &  NA & NA &  NA &  NA & 167 &  NA &  NA &  NA &  NA\\\\\n",
       "\t MX000017004 & 2010 &  5 & TMAX &  NA &  NA &  NA &  NA &  NA &  NA & ⋯ & NA &  NA & NA &  NA &  NA & 332 &  NA &  NA &  NA &  NA\\\\\n",
       "\t MX000017004 & 2010 &  5 & TMIN &  NA &  NA &  NA &  NA &  NA &  NA & ⋯ & NA &  NA & NA &  NA &  NA & 182 &  NA &  NA &  NA &  NA\\\\\n",
       "\t MX000017004 & 2010 &  6 & TMAX &  NA &  NA &  NA &  NA &  NA &  NA & ⋯ & NA &  NA & NA &  NA &  NA &  NA &  NA & 301 &  NA &  NA\\\\\n",
       "\t MX000017004 & 2010 &  6 & TMIN &  NA &  NA &  NA &  NA &  NA &  NA & ⋯ & NA &  NA & NA &  NA &  NA &  NA &  NA & 180 &  NA &  NA\\\\\n",
       "\t MX000017004 & 2010 &  7 & TMAX &  NA &  NA & 286 &  NA &  NA &  NA & ⋯ & NA &  NA & NA &  NA &  NA &  NA &  NA &  NA &  NA &  NA\\\\\n",
       "\t MX000017004 & 2010 &  7 & TMIN &  NA &  NA & 175 &  NA &  NA &  NA & ⋯ & NA &  NA & NA &  NA &  NA &  NA &  NA &  NA &  NA &  NA\\\\\n",
       "\t MX000017004 & 2010 &  8 & TMAX &  NA &  NA &  NA &  NA & 296 &  NA & ⋯ & NA & 264 & NA & 297 &  NA &  NA &  NA & 280 &  NA & 254\\\\\n",
       "\t MX000017004 & 2010 &  8 & TMIN &  NA &  NA &  NA &  NA & 158 &  NA & ⋯ & NA & 150 & NA & 156 &  NA &  NA &  NA & 153 &  NA & 154\\\\\n",
       "\t MX000017004 & 2010 & 10 & TMAX &  NA &  NA &  NA &  NA & 270 &  NA & ⋯ & NA &  NA & NA &  NA &  NA &  NA & 312 &  NA &  NA &  NA\\\\\n",
       "\t MX000017004 & 2010 & 10 & TMIN &  NA &  NA &  NA &  NA & 140 &  NA & ⋯ & NA &  NA & NA &  NA &  NA &  NA & 150 &  NA &  NA &  NA\\\\\n",
       "\t MX000017004 & 2010 & 11 & TMAX &  NA & 313 &  NA & 272 & 263 &  NA & ⋯ & NA &  NA & NA &  NA & 281 & 277 &  NA &  NA &  NA &  NA\\\\\n",
       "\t MX000017004 & 2010 & 11 & TMIN &  NA & 163 &  NA & 120 &  79 &  NA & ⋯ & NA &  NA & NA &  NA & 121 & 142 &  NA &  NA &  NA &  NA\\\\\n",
       "\t MX000017004 & 2010 & 12 & TMAX & 299 &  NA &  NA &  NA &  NA & 278 & ⋯ & NA &  NA & NA &  NA &  NA &  NA &  NA &  NA &  NA &  NA\\\\\n",
       "\t MX000017004 & 2010 & 12 & TMIN & 138 &  NA &  NA &  NA &  NA & 105 & ⋯ & NA &  NA & NA &  NA &  NA &  NA &  NA &  NA &  NA &  NA\\\\\n",
       "\\end{tabular}\n"
      ],
      "text/markdown": [
       "\n",
       "A data.frame: 22 × 35\n",
       "\n",
       "| id &lt;chr&gt; | year &lt;int&gt; | month &lt;int&gt; | element &lt;chr&gt; | d1 &lt;int&gt; | d2 &lt;int&gt; | d3 &lt;int&gt; | d4 &lt;int&gt; | d5 &lt;int&gt; | d6 &lt;int&gt; | ⋯ ⋯ | d22 &lt;lgl&gt; | d23 &lt;int&gt; | d24 &lt;lgl&gt; | d25 &lt;int&gt; | d26 &lt;int&gt; | d27 &lt;int&gt; | d28 &lt;int&gt; | d29 &lt;int&gt; | d30 &lt;int&gt; | d31 &lt;int&gt; |\n",
       "|---|---|---|---|---|---|---|---|---|---|---|---|---|---|---|---|---|---|---|---|---|\n",
       "| MX000017004 | 2010 |  1 | TMAX |  NA |  NA |  NA |  NA |  NA |  NA | ⋯ | NA |  NA | NA |  NA |  NA |  NA |  NA |  NA | 278 |  NA |\n",
       "| MX000017004 | 2010 |  1 | TMIN |  NA |  NA |  NA |  NA |  NA |  NA | ⋯ | NA |  NA | NA |  NA |  NA |  NA |  NA |  NA | 145 |  NA |\n",
       "| MX000017004 | 2010 |  2 | TMAX |  NA | 273 | 241 |  NA |  NA |  NA | ⋯ | NA | 299 | NA |  NA |  NA |  NA |  NA |  NA |  NA |  NA |\n",
       "| MX000017004 | 2010 |  2 | TMIN |  NA | 144 | 144 |  NA |  NA |  NA | ⋯ | NA | 107 | NA |  NA |  NA |  NA |  NA |  NA |  NA |  NA |\n",
       "| MX000017004 | 2010 |  3 | TMAX |  NA |  NA |  NA |  NA | 321 |  NA | ⋯ | NA |  NA | NA |  NA |  NA |  NA |  NA |  NA |  NA |  NA |\n",
       "| MX000017004 | 2010 |  3 | TMIN |  NA |  NA |  NA |  NA | 142 |  NA | ⋯ | NA |  NA | NA |  NA |  NA |  NA |  NA |  NA |  NA |  NA |\n",
       "| MX000017004 | 2010 |  4 | TMAX |  NA |  NA |  NA |  NA |  NA |  NA | ⋯ | NA |  NA | NA |  NA |  NA | 363 |  NA |  NA |  NA |  NA |\n",
       "| MX000017004 | 2010 |  4 | TMIN |  NA |  NA |  NA |  NA |  NA |  NA | ⋯ | NA |  NA | NA |  NA |  NA | 167 |  NA |  NA |  NA |  NA |\n",
       "| MX000017004 | 2010 |  5 | TMAX |  NA |  NA |  NA |  NA |  NA |  NA | ⋯ | NA |  NA | NA |  NA |  NA | 332 |  NA |  NA |  NA |  NA |\n",
       "| MX000017004 | 2010 |  5 | TMIN |  NA |  NA |  NA |  NA |  NA |  NA | ⋯ | NA |  NA | NA |  NA |  NA | 182 |  NA |  NA |  NA |  NA |\n",
       "| MX000017004 | 2010 |  6 | TMAX |  NA |  NA |  NA |  NA |  NA |  NA | ⋯ | NA |  NA | NA |  NA |  NA |  NA |  NA | 301 |  NA |  NA |\n",
       "| MX000017004 | 2010 |  6 | TMIN |  NA |  NA |  NA |  NA |  NA |  NA | ⋯ | NA |  NA | NA |  NA |  NA |  NA |  NA | 180 |  NA |  NA |\n",
       "| MX000017004 | 2010 |  7 | TMAX |  NA |  NA | 286 |  NA |  NA |  NA | ⋯ | NA |  NA | NA |  NA |  NA |  NA |  NA |  NA |  NA |  NA |\n",
       "| MX000017004 | 2010 |  7 | TMIN |  NA |  NA | 175 |  NA |  NA |  NA | ⋯ | NA |  NA | NA |  NA |  NA |  NA |  NA |  NA |  NA |  NA |\n",
       "| MX000017004 | 2010 |  8 | TMAX |  NA |  NA |  NA |  NA | 296 |  NA | ⋯ | NA | 264 | NA | 297 |  NA |  NA |  NA | 280 |  NA | 254 |\n",
       "| MX000017004 | 2010 |  8 | TMIN |  NA |  NA |  NA |  NA | 158 |  NA | ⋯ | NA | 150 | NA | 156 |  NA |  NA |  NA | 153 |  NA | 154 |\n",
       "| MX000017004 | 2010 | 10 | TMAX |  NA |  NA |  NA |  NA | 270 |  NA | ⋯ | NA |  NA | NA |  NA |  NA |  NA | 312 |  NA |  NA |  NA |\n",
       "| MX000017004 | 2010 | 10 | TMIN |  NA |  NA |  NA |  NA | 140 |  NA | ⋯ | NA |  NA | NA |  NA |  NA |  NA | 150 |  NA |  NA |  NA |\n",
       "| MX000017004 | 2010 | 11 | TMAX |  NA | 313 |  NA | 272 | 263 |  NA | ⋯ | NA |  NA | NA |  NA | 281 | 277 |  NA |  NA |  NA |  NA |\n",
       "| MX000017004 | 2010 | 11 | TMIN |  NA | 163 |  NA | 120 |  79 |  NA | ⋯ | NA |  NA | NA |  NA | 121 | 142 |  NA |  NA |  NA |  NA |\n",
       "| MX000017004 | 2010 | 12 | TMAX | 299 |  NA |  NA |  NA |  NA | 278 | ⋯ | NA |  NA | NA |  NA |  NA |  NA |  NA |  NA |  NA |  NA |\n",
       "| MX000017004 | 2010 | 12 | TMIN | 138 |  NA |  NA |  NA |  NA | 105 | ⋯ | NA |  NA | NA |  NA |  NA |  NA |  NA |  NA |  NA |  NA |\n",
       "\n"
      ],
      "text/plain": [
       "   id          year month element d1  d2  d3  d4  d5  d6  ⋯ d22 d23 d24 d25 d26\n",
       "1  MX000017004 2010  1    TMAX     NA  NA  NA  NA  NA  NA ⋯ NA   NA NA   NA  NA\n",
       "2  MX000017004 2010  1    TMIN     NA  NA  NA  NA  NA  NA ⋯ NA   NA NA   NA  NA\n",
       "3  MX000017004 2010  2    TMAX     NA 273 241  NA  NA  NA ⋯ NA  299 NA   NA  NA\n",
       "4  MX000017004 2010  2    TMIN     NA 144 144  NA  NA  NA ⋯ NA  107 NA   NA  NA\n",
       "5  MX000017004 2010  3    TMAX     NA  NA  NA  NA 321  NA ⋯ NA   NA NA   NA  NA\n",
       "6  MX000017004 2010  3    TMIN     NA  NA  NA  NA 142  NA ⋯ NA   NA NA   NA  NA\n",
       "7  MX000017004 2010  4    TMAX     NA  NA  NA  NA  NA  NA ⋯ NA   NA NA   NA  NA\n",
       "8  MX000017004 2010  4    TMIN     NA  NA  NA  NA  NA  NA ⋯ NA   NA NA   NA  NA\n",
       "9  MX000017004 2010  5    TMAX     NA  NA  NA  NA  NA  NA ⋯ NA   NA NA   NA  NA\n",
       "10 MX000017004 2010  5    TMIN     NA  NA  NA  NA  NA  NA ⋯ NA   NA NA   NA  NA\n",
       "11 MX000017004 2010  6    TMAX     NA  NA  NA  NA  NA  NA ⋯ NA   NA NA   NA  NA\n",
       "12 MX000017004 2010  6    TMIN     NA  NA  NA  NA  NA  NA ⋯ NA   NA NA   NA  NA\n",
       "13 MX000017004 2010  7    TMAX     NA  NA 286  NA  NA  NA ⋯ NA   NA NA   NA  NA\n",
       "14 MX000017004 2010  7    TMIN     NA  NA 175  NA  NA  NA ⋯ NA   NA NA   NA  NA\n",
       "15 MX000017004 2010  8    TMAX     NA  NA  NA  NA 296  NA ⋯ NA  264 NA  297  NA\n",
       "16 MX000017004 2010  8    TMIN     NA  NA  NA  NA 158  NA ⋯ NA  150 NA  156  NA\n",
       "17 MX000017004 2010 10    TMAX     NA  NA  NA  NA 270  NA ⋯ NA   NA NA   NA  NA\n",
       "18 MX000017004 2010 10    TMIN     NA  NA  NA  NA 140  NA ⋯ NA   NA NA   NA  NA\n",
       "19 MX000017004 2010 11    TMAX     NA 313  NA 272 263  NA ⋯ NA   NA NA   NA 281\n",
       "20 MX000017004 2010 11    TMIN     NA 163  NA 120  79  NA ⋯ NA   NA NA   NA 121\n",
       "21 MX000017004 2010 12    TMAX    299  NA  NA  NA  NA 278 ⋯ NA   NA NA   NA  NA\n",
       "22 MX000017004 2010 12    TMIN    138  NA  NA  NA  NA 105 ⋯ NA   NA NA   NA  NA\n",
       "   d27 d28 d29 d30 d31\n",
       "1   NA  NA  NA 278  NA\n",
       "2   NA  NA  NA 145  NA\n",
       "3   NA  NA  NA  NA  NA\n",
       "4   NA  NA  NA  NA  NA\n",
       "5   NA  NA  NA  NA  NA\n",
       "6   NA  NA  NA  NA  NA\n",
       "7  363  NA  NA  NA  NA\n",
       "8  167  NA  NA  NA  NA\n",
       "9  332  NA  NA  NA  NA\n",
       "10 182  NA  NA  NA  NA\n",
       "11  NA  NA 301  NA  NA\n",
       "12  NA  NA 180  NA  NA\n",
       "13  NA  NA  NA  NA  NA\n",
       "14  NA  NA  NA  NA  NA\n",
       "15  NA  NA 280  NA 254\n",
       "16  NA  NA 153  NA 154\n",
       "17  NA 312  NA  NA  NA\n",
       "18  NA 150  NA  NA  NA\n",
       "19 277  NA  NA  NA  NA\n",
       "20 142  NA  NA  NA  NA\n",
       "21  NA  NA  NA  NA  NA\n",
       "22  NA  NA  NA  NA  NA"
      ]
     },
     "metadata": {},
     "output_type": "display_data"
    }
   ],
   "source": [
    "read.delim(\n",
    " file = \"http://stat405.had.co.nz/data/weather.txt\",\n",
    " stringsAsFactors = FALSE\n",
    " ) -> weather\n",
    "\n",
    "weather"
   ]
  },
  {
   "cell_type": "code",
   "execution_count": null,
   "id": "81749de5-fe8e-4a96-9544-b290ab62506a",
   "metadata": {},
   "outputs": [],
   "source": []
  }
 ],
 "metadata": {
  "jupytext": {
   "cell_metadata_filter": "tags,include,name,-all",
   "main_language": "R",
   "notebook_metadata_filter": "-all"
  },
  "kernelspec": {
   "display_name": "R",
   "language": "R",
   "name": "ir"
  },
  "language_info": {
   "codemirror_mode": "r",
   "file_extension": ".r",
   "mimetype": "text/x-r-source",
   "name": "R",
   "pygments_lexer": "r",
   "version": "4.1.2"
  }
 },
 "nbformat": 4,
 "nbformat_minor": 5
}