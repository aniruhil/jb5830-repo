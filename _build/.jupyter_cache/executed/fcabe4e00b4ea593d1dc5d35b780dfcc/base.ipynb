version https://git-lfs.github.com/spec/v1
oid sha256:18cbac6fddf1531feda51482707cb25e4bc1e609a6607230fbb60aab093a3133
size 37566
